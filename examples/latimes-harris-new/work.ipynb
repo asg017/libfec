{
 "cells": [
  {
   "cell_type": "markdown",
   "metadata": {},
   "source": [
    "# Using `libfec` to (almost) replicate an LA Times campaign finance story\n",
    "\n",
    "Gabrielle LaMarr LeMee and Sandhya Kambhampati of the LA Times published \n",
    "[*\"More than half of Harris donors had not given to Biden’s 2024 campaign\"*](https://www.latimes.com/politics/story/2024-08-27/where-kamala-harris-most-new-donors-july-2024-election)\n",
    "on August 27th of 2024. It details the composition of Kamala Harris supporters in the weeks following Biden's resignation\n",
    "and subsequent endorsement of Kamala Harris' presidential campaign. \n",
    "\n",
    "Let's try to recreate the story, using the `libfec` CLI and SQLite!"
   ]
  },
  {
   "cell_type": "markdown",
   "metadata": {},
   "source": [
    "## Small caveat: not a full replication\n",
    "\n",
    "The LA Times article uses a few different committee filings to source their data, while here we will only focus on receipts reported \n",
    "by ActBlue. This is nearly everything, but the data found here will be slightly incomplete compared to the LA Times analysis. "
   ]
  },
  {
   "cell_type": "markdown",
   "metadata": {},
   "source": [
    "## Step 1: Sourcing all ActBlue data\n",
    "\n",
    "The LAT article contains this nerdbox about the dataset they analyzed:\n",
    "\n",
    "> *The Times analysis is based on Federal Election Commission filings as of Aug. 20. The Times analysis includes itemized contributions to **Harris for President, Harris Victory Fund, Harris Baldwin Victory Fund, and Harris Action Fund**. Some contributions to these committees were **given through ActBlue**. A donor was determined to be a prior Biden donor if a donation from their unique combination of first name, last name and ZIP Code had been made **from Jan. 2023 to July 20, 2024**.*\n",
    "\n",
    "So we're looking at data as early as January 2023, from ActBlue (for this replication), and for those four specific committees. \n",
    "\n",
    "We can use `libfec` to download this data directly from the ActBlue filings, we'll just need to find the FEC IDs. Looking at [the ActBlue FEC commitee webpage](https://docquery.fec.gov/cgi-bin/forms/C00401224/), we can see all the filings that ActBlue have submitted, and we care about the `F3X` forms. This is [FEC Form 3X](https://www.fec.gov/resources/cms-content/documents/policy-guidance/fecfrm3x.pdf), aka \"Report of Receipts and Disbursements\", that committees like ActBlue file. ActBlue files these every month (`MAY MONLTHY)"
   ]
  },
  {
   "cell_type": "code",
   "execution_count": 20,
   "metadata": {},
   "outputs": [
    {
     "name": "stdout",
     "output_type": "stream",
     "text": [
      "The sql extension is already loaded. To reload it, use:\n",
      "  %reload_ext sql\n"
     ]
    }
   ],
   "source": [
    "%load_ext sql\n"
   ]
  },
  {
   "cell_type": "code",
   "execution_count": null,
   "metadata": {},
   "outputs": [],
   "source": []
  },
  {
   "cell_type": "code",
   "execution_count": 21,
   "metadata": {},
   "outputs": [],
   "source": [
    "%sql sqlite:///tmp.db"
   ]
  },
  {
   "cell_type": "code",
   "execution_count": 22,
   "metadata": {
    "vscode": {
     "languageId": "sql"
    }
   },
   "outputs": [
    {
     "data": {
      "text/html": [
       "<span style=\"None\">Running query in &#x27;sqlite:///tmp.db&#x27;</span>"
      ],
      "text/plain": [
       "Running query in 'sqlite:///tmp.db'"
      ]
     },
     "metadata": {},
     "output_type": "display_data"
    },
    {
     "data": {
      "text/html": [
       "<table>\n",
       "    <thead>\n",
       "        <tr>\n",
       "            <th>filing_id</th>\n",
       "            <th>form_type</th>\n",
       "            <th>filer_committee_id_number</th>\n",
       "            <th>transaction_id</th>\n",
       "            <th>back_reference_tran_id_number</th>\n",
       "            <th>back_reference_sched_name</th>\n",
       "            <th>entity_type</th>\n",
       "            <th>contributor_organization_name</th>\n",
       "            <th>contributor_last_name</th>\n",
       "            <th>contributor_first_name</th>\n",
       "            <th>contributor_middle_name</th>\n",
       "            <th>contributor_prefix</th>\n",
       "            <th>contributor_suffix</th>\n",
       "            <th>contributor_street_1</th>\n",
       "            <th>contributor_street_2</th>\n",
       "            <th>contributor_city</th>\n",
       "            <th>contributor_state</th>\n",
       "            <th>contributor_zip_code</th>\n",
       "            <th>election_code</th>\n",
       "            <th>election_other_description</th>\n",
       "            <th>contribution_date</th>\n",
       "            <th>contribution_amount</th>\n",
       "            <th>contribution_aggregate</th>\n",
       "            <th>contribution_purpose_descrip</th>\n",
       "            <th>contributor_employer</th>\n",
       "            <th>contributor_occupation</th>\n",
       "            <th>donor_committee_fec_id</th>\n",
       "            <th>donor_committee_name</th>\n",
       "            <th>donor_candidate_fec_id</th>\n",
       "            <th>donor_candidate_last_name</th>\n",
       "            <th>donor_candidate_first_name</th>\n",
       "            <th>donor_candidate_middle_name</th>\n",
       "            <th>donor_candidate_prefix</th>\n",
       "            <th>donor_candidate_suffix</th>\n",
       "            <th>donor_candidate_office</th>\n",
       "            <th>donor_candidate_state</th>\n",
       "            <th>donor_candidate_district</th>\n",
       "            <th>conduit_name</th>\n",
       "            <th>conduit_street1</th>\n",
       "            <th>conduit_street2</th>\n",
       "            <th>conduit_city</th>\n",
       "            <th>conduit_state</th>\n",
       "            <th>conduit_zip_code</th>\n",
       "            <th>memo_code</th>\n",
       "            <th>memo_text_description</th>\n",
       "            <th>reference_code</th>\n",
       "            <th>contributor_zip_code5</th>\n",
       "            <th>contributor_id</th>\n",
       "        </tr>\n",
       "    </thead>\n",
       "    <tbody>\n",
       "        <tr>\n",
       "            <td>1720554</td>\n",
       "            <td>SA11AI</td>\n",
       "            <td>C00401224</td>\n",
       "            <td>SA11AI_535329455</td>\n",
       "            <td></td>\n",
       "            <td></td>\n",
       "            <td>IND</td>\n",
       "            <td></td>\n",
       "            <td>A</td>\n",
       "            <td>DA BABY</td>\n",
       "            <td></td>\n",
       "            <td></td>\n",
       "            <td></td>\n",
       "            <td>122 DEERHUNTER LN</td>\n",
       "            <td></td>\n",
       "            <td>POWDER SPRINGS</td>\n",
       "            <td>GA</td>\n",
       "            <td>30127</td>\n",
       "            <td></td>\n",
       "            <td></td>\n",
       "            <td>2023-06-30</td>\n",
       "            <td>1.0</td>\n",
       "            <td>1.0</td>\n",
       "            <td>Earmark</td>\n",
       "            <td>NOT EMPLOYED</td>\n",
       "            <td>NOT EMPLOYED</td>\n",
       "            <td></td>\n",
       "            <td></td>\n",
       "            <td></td>\n",
       "            <td></td>\n",
       "            <td></td>\n",
       "            <td></td>\n",
       "            <td></td>\n",
       "            <td></td>\n",
       "            <td></td>\n",
       "            <td></td>\n",
       "            <td></td>\n",
       "            <td></td>\n",
       "            <td></td>\n",
       "            <td></td>\n",
       "            <td></td>\n",
       "            <td></td>\n",
       "            <td></td>\n",
       "            <td></td>\n",
       "            <td>Earmarked for BIDEN FOR PRESIDENT (C00703975)</td>\n",
       "            <td></td>\n",
       "            <td>30127</td>\n",
       "            <td>da babya30127</td>\n",
       "        </tr>\n",
       "        <tr>\n",
       "            <td>1720554</td>\n",
       "            <td>SA11AI</td>\n",
       "            <td>C00401224</td>\n",
       "            <td>SA11AI_534850611</td>\n",
       "            <td></td>\n",
       "            <td></td>\n",
       "            <td>IND</td>\n",
       "            <td></td>\n",
       "            <td>A</td>\n",
       "            <td>DIANA</td>\n",
       "            <td></td>\n",
       "            <td></td>\n",
       "            <td></td>\n",
       "            <td>6808 ZINNIA CT</td>\n",
       "            <td></td>\n",
       "            <td>CARLSBAD</td>\n",
       "            <td>CA</td>\n",
       "            <td>92011</td>\n",
       "            <td></td>\n",
       "            <td></td>\n",
       "            <td>2023-06-28</td>\n",
       "            <td>10.0</td>\n",
       "            <td>10.0</td>\n",
       "            <td>Earmark</td>\n",
       "            <td>ANTHEM</td>\n",
       "            <td>PROJECT DIRECTOR</td>\n",
       "            <td></td>\n",
       "            <td></td>\n",
       "            <td></td>\n",
       "            <td></td>\n",
       "            <td></td>\n",
       "            <td></td>\n",
       "            <td></td>\n",
       "            <td></td>\n",
       "            <td></td>\n",
       "            <td></td>\n",
       "            <td></td>\n",
       "            <td></td>\n",
       "            <td></td>\n",
       "            <td></td>\n",
       "            <td></td>\n",
       "            <td></td>\n",
       "            <td></td>\n",
       "            <td></td>\n",
       "            <td>Earmarked for BIDEN FOR PRESIDENT (C00703975)</td>\n",
       "            <td></td>\n",
       "            <td>92011</td>\n",
       "            <td>dianaa92011</td>\n",
       "        </tr>\n",
       "        <tr>\n",
       "            <td>1720554</td>\n",
       "            <td>SA11AI</td>\n",
       "            <td>C00401224</td>\n",
       "            <td>SA11AI_529522643</td>\n",
       "            <td></td>\n",
       "            <td></td>\n",
       "            <td>IND</td>\n",
       "            <td></td>\n",
       "            <td>A</td>\n",
       "            <td>JOHN</td>\n",
       "            <td></td>\n",
       "            <td></td>\n",
       "            <td></td>\n",
       "            <td>1636 ADRIEN DR</td>\n",
       "            <td></td>\n",
       "            <td>CAMPBELL</td>\n",
       "            <td>CA</td>\n",
       "            <td>95008</td>\n",
       "            <td></td>\n",
       "            <td></td>\n",
       "            <td>2023-05-19</td>\n",
       "            <td>10.0</td>\n",
       "            <td>10.0</td>\n",
       "            <td>Earmark</td>\n",
       "            <td>NOT EMPLOYED</td>\n",
       "            <td>NOT EMPLOYED</td>\n",
       "            <td></td>\n",
       "            <td></td>\n",
       "            <td></td>\n",
       "            <td></td>\n",
       "            <td></td>\n",
       "            <td></td>\n",
       "            <td></td>\n",
       "            <td></td>\n",
       "            <td></td>\n",
       "            <td></td>\n",
       "            <td></td>\n",
       "            <td></td>\n",
       "            <td></td>\n",
       "            <td></td>\n",
       "            <td></td>\n",
       "            <td></td>\n",
       "            <td></td>\n",
       "            <td></td>\n",
       "            <td>Earmarked for BIDEN FOR PRESIDENT (C00703975)</td>\n",
       "            <td></td>\n",
       "            <td>95008</td>\n",
       "            <td>johna95008</td>\n",
       "        </tr>\n",
       "        <tr>\n",
       "            <td>1720554</td>\n",
       "            <td>SA11AI</td>\n",
       "            <td>C00401224</td>\n",
       "            <td>SA11AI_526451881</td>\n",
       "            <td></td>\n",
       "            <td></td>\n",
       "            <td>IND</td>\n",
       "            <td></td>\n",
       "            <td>A</td>\n",
       "            <td>K</td>\n",
       "            <td></td>\n",
       "            <td></td>\n",
       "            <td></td>\n",
       "            <td>3713 YUMA ST NW</td>\n",
       "            <td></td>\n",
       "            <td>WASHINGTON</td>\n",
       "            <td>DC</td>\n",
       "            <td>20016</td>\n",
       "            <td></td>\n",
       "            <td></td>\n",
       "            <td>2023-04-25</td>\n",
       "            <td>5.0</td>\n",
       "            <td>5.0</td>\n",
       "            <td>Earmark</td>\n",
       "            <td>NOT EMPLOYED</td>\n",
       "            <td>NOT EMPLOYED</td>\n",
       "            <td></td>\n",
       "            <td></td>\n",
       "            <td></td>\n",
       "            <td></td>\n",
       "            <td></td>\n",
       "            <td></td>\n",
       "            <td></td>\n",
       "            <td></td>\n",
       "            <td></td>\n",
       "            <td></td>\n",
       "            <td></td>\n",
       "            <td></td>\n",
       "            <td></td>\n",
       "            <td></td>\n",
       "            <td></td>\n",
       "            <td></td>\n",
       "            <td></td>\n",
       "            <td></td>\n",
       "            <td>Earmarked for BIDEN VICTORY FUND (C00744946)</td>\n",
       "            <td></td>\n",
       "            <td>20016</td>\n",
       "            <td>ka20016</td>\n",
       "        </tr>\n",
       "        <tr>\n",
       "            <td>1720554</td>\n",
       "            <td>SA11AI</td>\n",
       "            <td>C00401224</td>\n",
       "            <td>SA11AI_531348463</td>\n",
       "            <td></td>\n",
       "            <td></td>\n",
       "            <td>IND</td>\n",
       "            <td></td>\n",
       "            <td>A</td>\n",
       "            <td>LUIS</td>\n",
       "            <td></td>\n",
       "            <td></td>\n",
       "            <td></td>\n",
       "            <td>106 STILLWOLD DRIVE</td>\n",
       "            <td></td>\n",
       "            <td>WETHERSFIELD</td>\n",
       "            <td>CT</td>\n",
       "            <td>06109</td>\n",
       "            <td></td>\n",
       "            <td></td>\n",
       "            <td>2023-06-02</td>\n",
       "            <td>25.0</td>\n",
       "            <td>25.0</td>\n",
       "            <td>Earmark</td>\n",
       "            <td>NOT EMPLOYED</td>\n",
       "            <td>NOT EMPLOYED</td>\n",
       "            <td></td>\n",
       "            <td></td>\n",
       "            <td></td>\n",
       "            <td></td>\n",
       "            <td></td>\n",
       "            <td></td>\n",
       "            <td></td>\n",
       "            <td></td>\n",
       "            <td></td>\n",
       "            <td></td>\n",
       "            <td></td>\n",
       "            <td></td>\n",
       "            <td></td>\n",
       "            <td></td>\n",
       "            <td></td>\n",
       "            <td></td>\n",
       "            <td></td>\n",
       "            <td></td>\n",
       "            <td>Earmarked for BIDEN FOR PRESIDENT (C00703975)</td>\n",
       "            <td></td>\n",
       "            <td>06109</td>\n",
       "            <td>luisa06109</td>\n",
       "        </tr>\n",
       "        <tr>\n",
       "            <td>1720554</td>\n",
       "            <td>SA11AI</td>\n",
       "            <td>C00401224</td>\n",
       "            <td>SA11AI_529907797</td>\n",
       "            <td></td>\n",
       "            <td></td>\n",
       "            <td>IND</td>\n",
       "            <td></td>\n",
       "            <td>A</td>\n",
       "            <td>MARY</td>\n",
       "            <td></td>\n",
       "            <td></td>\n",
       "            <td></td>\n",
       "            <td>15817 NW 173 RD STREET</td>\n",
       "            <td></td>\n",
       "            <td>ALACHUA</td>\n",
       "            <td>FL</td>\n",
       "            <td>32615</td>\n",
       "            <td></td>\n",
       "            <td></td>\n",
       "            <td>2023-05-23</td>\n",
       "            <td>10.0</td>\n",
       "            <td>10.0</td>\n",
       "            <td>Earmark</td>\n",
       "            <td>NOT EMPLOYED</td>\n",
       "            <td>NOT EMPLOYED</td>\n",
       "            <td></td>\n",
       "            <td></td>\n",
       "            <td></td>\n",
       "            <td></td>\n",
       "            <td></td>\n",
       "            <td></td>\n",
       "            <td></td>\n",
       "            <td></td>\n",
       "            <td></td>\n",
       "            <td></td>\n",
       "            <td></td>\n",
       "            <td></td>\n",
       "            <td></td>\n",
       "            <td></td>\n",
       "            <td></td>\n",
       "            <td></td>\n",
       "            <td></td>\n",
       "            <td></td>\n",
       "            <td>Earmarked for BIDEN VICTORY FUND (C00744946)</td>\n",
       "            <td></td>\n",
       "            <td>32615</td>\n",
       "            <td>marya32615</td>\n",
       "        </tr>\n",
       "        <tr>\n",
       "            <td>1720554</td>\n",
       "            <td>SA11AI</td>\n",
       "            <td>C00401224</td>\n",
       "            <td>SA11AI_530180169</td>\n",
       "            <td></td>\n",
       "            <td></td>\n",
       "            <td>IND</td>\n",
       "            <td></td>\n",
       "            <td>A</td>\n",
       "            <td>MICHAEL</td>\n",
       "            <td></td>\n",
       "            <td></td>\n",
       "            <td></td>\n",
       "            <td>940 GRAND CONCOURSE</td>\n",
       "            <td></td>\n",
       "            <td>NEW YORK</td>\n",
       "            <td>NY</td>\n",
       "            <td>10451</td>\n",
       "            <td></td>\n",
       "            <td></td>\n",
       "            <td>2023-05-25</td>\n",
       "            <td>10.0</td>\n",
       "            <td>10.0</td>\n",
       "            <td>Earmark</td>\n",
       "            <td>EONE</td>\n",
       "            <td>PRODUCER</td>\n",
       "            <td></td>\n",
       "            <td></td>\n",
       "            <td></td>\n",
       "            <td></td>\n",
       "            <td></td>\n",
       "            <td></td>\n",
       "            <td></td>\n",
       "            <td></td>\n",
       "            <td></td>\n",
       "            <td></td>\n",
       "            <td></td>\n",
       "            <td></td>\n",
       "            <td></td>\n",
       "            <td></td>\n",
       "            <td></td>\n",
       "            <td></td>\n",
       "            <td></td>\n",
       "            <td></td>\n",
       "            <td>Earmarked for BIDEN FOR PRESIDENT (C00703975)</td>\n",
       "            <td></td>\n",
       "            <td>10451</td>\n",
       "            <td>michaela10451</td>\n",
       "        </tr>\n",
       "        <tr>\n",
       "            <td>1720554</td>\n",
       "            <td>SA11AI</td>\n",
       "            <td>C00401224</td>\n",
       "            <td>SA11AI_527825689</td>\n",
       "            <td></td>\n",
       "            <td></td>\n",
       "            <td>IND</td>\n",
       "            <td></td>\n",
       "            <td>A ADAMS</td>\n",
       "            <td>GARY</td>\n",
       "            <td></td>\n",
       "            <td></td>\n",
       "            <td></td>\n",
       "            <td>3411 48TH STREET</td>\n",
       "            <td></td>\n",
       "            <td>DES MOINES</td>\n",
       "            <td>IA</td>\n",
       "            <td>503103219</td>\n",
       "            <td></td>\n",
       "            <td></td>\n",
       "            <td>2023-05-04</td>\n",
       "            <td>25.0</td>\n",
       "            <td>25.0</td>\n",
       "            <td>Earmark</td>\n",
       "            <td>ISL EDUCATION LENDING</td>\n",
       "            <td>SCHOOL SERVICES LIAISON</td>\n",
       "            <td></td>\n",
       "            <td></td>\n",
       "            <td></td>\n",
       "            <td></td>\n",
       "            <td></td>\n",
       "            <td></td>\n",
       "            <td></td>\n",
       "            <td></td>\n",
       "            <td></td>\n",
       "            <td></td>\n",
       "            <td></td>\n",
       "            <td></td>\n",
       "            <td></td>\n",
       "            <td></td>\n",
       "            <td></td>\n",
       "            <td></td>\n",
       "            <td></td>\n",
       "            <td></td>\n",
       "            <td>Earmarked for BIDEN FOR PRESIDENT (C00703975)</td>\n",
       "            <td></td>\n",
       "            <td>50310</td>\n",
       "            <td>garya adams50310</td>\n",
       "        </tr>\n",
       "        <tr>\n",
       "            <td>1720554</td>\n",
       "            <td>SA11AI</td>\n",
       "            <td>C00401224</td>\n",
       "            <td>SA11AI_531049324</td>\n",
       "            <td></td>\n",
       "            <td></td>\n",
       "            <td>IND</td>\n",
       "            <td></td>\n",
       "            <td>A ALLEY</td>\n",
       "            <td>JULIE</td>\n",
       "            <td></td>\n",
       "            <td></td>\n",
       "            <td></td>\n",
       "            <td>5208 SW GENESEE ST</td>\n",
       "            <td></td>\n",
       "            <td>SEATTLE, WA</td>\n",
       "            <td>WA</td>\n",
       "            <td>98116</td>\n",
       "            <td></td>\n",
       "            <td></td>\n",
       "            <td>2023-05-31</td>\n",
       "            <td>25.0</td>\n",
       "            <td>25.0</td>\n",
       "            <td>Earmark</td>\n",
       "            <td>LIFELONG</td>\n",
       "            <td>IT MANAGER</td>\n",
       "            <td></td>\n",
       "            <td></td>\n",
       "            <td></td>\n",
       "            <td></td>\n",
       "            <td></td>\n",
       "            <td></td>\n",
       "            <td></td>\n",
       "            <td></td>\n",
       "            <td></td>\n",
       "            <td></td>\n",
       "            <td></td>\n",
       "            <td></td>\n",
       "            <td></td>\n",
       "            <td></td>\n",
       "            <td></td>\n",
       "            <td></td>\n",
       "            <td></td>\n",
       "            <td></td>\n",
       "            <td>Earmarked for BIDEN FOR PRESIDENT (C00703975)</td>\n",
       "            <td></td>\n",
       "            <td>98116</td>\n",
       "            <td>juliea alley98116</td>\n",
       "        </tr>\n",
       "        <tr>\n",
       "            <td>1720554</td>\n",
       "            <td>SA11AI</td>\n",
       "            <td>C00401224</td>\n",
       "            <td>SA11AI_526440924</td>\n",
       "            <td></td>\n",
       "            <td></td>\n",
       "            <td>IND</td>\n",
       "            <td></td>\n",
       "            <td>A ANDREWS</td>\n",
       "            <td>SHARON</td>\n",
       "            <td></td>\n",
       "            <td></td>\n",
       "            <td></td>\n",
       "            <td>1304 FOXX CT</td>\n",
       "            <td></td>\n",
       "            <td>SUDLERSVILLE</td>\n",
       "            <td>MD</td>\n",
       "            <td>21668</td>\n",
       "            <td></td>\n",
       "            <td></td>\n",
       "            <td>2023-04-25</td>\n",
       "            <td>10.0</td>\n",
       "            <td>20.0</td>\n",
       "            <td>Earmark</td>\n",
       "            <td>NOT EMPLOYED</td>\n",
       "            <td>NOT EMPLOYED</td>\n",
       "            <td></td>\n",
       "            <td></td>\n",
       "            <td></td>\n",
       "            <td></td>\n",
       "            <td></td>\n",
       "            <td></td>\n",
       "            <td></td>\n",
       "            <td></td>\n",
       "            <td></td>\n",
       "            <td></td>\n",
       "            <td></td>\n",
       "            <td></td>\n",
       "            <td></td>\n",
       "            <td></td>\n",
       "            <td></td>\n",
       "            <td></td>\n",
       "            <td></td>\n",
       "            <td></td>\n",
       "            <td>Earmarked for BIDEN FOR PRESIDENT (C00703975)</td>\n",
       "            <td></td>\n",
       "            <td>21668</td>\n",
       "            <td>sharona andrews21668</td>\n",
       "        </tr>\n",
       "    </tbody>\n",
       "</table>"
      ],
      "text/plain": [
       "+-----------+-----------+---------------------------+------------------+-------------------------------+---------------------------+-------------+-------------------------------+-----------------------+------------------------+-------------------------+--------------------+--------------------+------------------------+----------------------+------------------+-------------------+----------------------+---------------+----------------------------+-------------------+---------------------+------------------------+------------------------------+-----------------------+-------------------------+------------------------+----------------------+------------------------+---------------------------+----------------------------+-----------------------------+------------------------+------------------------+------------------------+-----------------------+--------------------------+--------------+-----------------+-----------------+--------------+---------------+------------------+-----------+-----------------------------------------------+----------------+-----------------------+----------------------+\n",
       "| filing_id | form_type | filer_committee_id_number |  transaction_id  | back_reference_tran_id_number | back_reference_sched_name | entity_type | contributor_organization_name | contributor_last_name | contributor_first_name | contributor_middle_name | contributor_prefix | contributor_suffix |  contributor_street_1  | contributor_street_2 | contributor_city | contributor_state | contributor_zip_code | election_code | election_other_description | contribution_date | contribution_amount | contribution_aggregate | contribution_purpose_descrip |  contributor_employer |  contributor_occupation | donor_committee_fec_id | donor_committee_name | donor_candidate_fec_id | donor_candidate_last_name | donor_candidate_first_name | donor_candidate_middle_name | donor_candidate_prefix | donor_candidate_suffix | donor_candidate_office | donor_candidate_state | donor_candidate_district | conduit_name | conduit_street1 | conduit_street2 | conduit_city | conduit_state | conduit_zip_code | memo_code |             memo_text_description             | reference_code | contributor_zip_code5 |    contributor_id    |\n",
       "+-----------+-----------+---------------------------+------------------+-------------------------------+---------------------------+-------------+-------------------------------+-----------------------+------------------------+-------------------------+--------------------+--------------------+------------------------+----------------------+------------------+-------------------+----------------------+---------------+----------------------------+-------------------+---------------------+------------------------+------------------------------+-----------------------+-------------------------+------------------------+----------------------+------------------------+---------------------------+----------------------------+-----------------------------+------------------------+------------------------+------------------------+-----------------------+--------------------------+--------------+-----------------+-----------------+--------------+---------------+------------------+-----------+-----------------------------------------------+----------------+-----------------------+----------------------+\n",
       "|  1720554  |   SA11AI  |         C00401224         | SA11AI_535329455 |                               |                           |     IND     |                               |           A           |        DA BABY         |                         |                    |                    |   122 DEERHUNTER LN    |                      |  POWDER SPRINGS  |         GA        |        30127         |               |                            |     2023-06-30    |         1.0         |          1.0           |           Earmark            |      NOT EMPLOYED     |       NOT EMPLOYED      |                        |                      |                        |                           |                            |                             |                        |                        |                        |                       |                          |              |                 |                 |              |               |                  |           | Earmarked for BIDEN FOR PRESIDENT (C00703975) |                |         30127         |    da babya30127     |\n",
       "|  1720554  |   SA11AI  |         C00401224         | SA11AI_534850611 |                               |                           |     IND     |                               |           A           |         DIANA          |                         |                    |                    |     6808 ZINNIA CT     |                      |     CARLSBAD     |         CA        |        92011         |               |                            |     2023-06-28    |         10.0        |          10.0          |           Earmark            |         ANTHEM        |     PROJECT DIRECTOR    |                        |                      |                        |                           |                            |                             |                        |                        |                        |                       |                          |              |                 |                 |              |               |                  |           | Earmarked for BIDEN FOR PRESIDENT (C00703975) |                |         92011         |     dianaa92011      |\n",
       "|  1720554  |   SA11AI  |         C00401224         | SA11AI_529522643 |                               |                           |     IND     |                               |           A           |          JOHN          |                         |                    |                    |     1636 ADRIEN DR     |                      |     CAMPBELL     |         CA        |        95008         |               |                            |     2023-05-19    |         10.0        |          10.0          |           Earmark            |      NOT EMPLOYED     |       NOT EMPLOYED      |                        |                      |                        |                           |                            |                             |                        |                        |                        |                       |                          |              |                 |                 |              |               |                  |           | Earmarked for BIDEN FOR PRESIDENT (C00703975) |                |         95008         |      johna95008      |\n",
       "|  1720554  |   SA11AI  |         C00401224         | SA11AI_526451881 |                               |                           |     IND     |                               |           A           |           K            |                         |                    |                    |    3713 YUMA ST NW     |                      |    WASHINGTON    |         DC        |        20016         |               |                            |     2023-04-25    |         5.0         |          5.0           |           Earmark            |      NOT EMPLOYED     |       NOT EMPLOYED      |                        |                      |                        |                           |                            |                             |                        |                        |                        |                       |                          |              |                 |                 |              |               |                  |           |  Earmarked for BIDEN VICTORY FUND (C00744946) |                |         20016         |       ka20016        |\n",
       "|  1720554  |   SA11AI  |         C00401224         | SA11AI_531348463 |                               |                           |     IND     |                               |           A           |          LUIS          |                         |                    |                    |  106 STILLWOLD DRIVE   |                      |   WETHERSFIELD   |         CT        |        06109         |               |                            |     2023-06-02    |         25.0        |          25.0          |           Earmark            |      NOT EMPLOYED     |       NOT EMPLOYED      |                        |                      |                        |                           |                            |                             |                        |                        |                        |                       |                          |              |                 |                 |              |               |                  |           | Earmarked for BIDEN FOR PRESIDENT (C00703975) |                |         06109         |      luisa06109      |\n",
       "|  1720554  |   SA11AI  |         C00401224         | SA11AI_529907797 |                               |                           |     IND     |                               |           A           |          MARY          |                         |                    |                    | 15817 NW 173 RD STREET |                      |     ALACHUA      |         FL        |        32615         |               |                            |     2023-05-23    |         10.0        |          10.0          |           Earmark            |      NOT EMPLOYED     |       NOT EMPLOYED      |                        |                      |                        |                           |                            |                             |                        |                        |                        |                       |                          |              |                 |                 |              |               |                  |           |  Earmarked for BIDEN VICTORY FUND (C00744946) |                |         32615         |      marya32615      |\n",
       "|  1720554  |   SA11AI  |         C00401224         | SA11AI_530180169 |                               |                           |     IND     |                               |           A           |        MICHAEL         |                         |                    |                    |  940 GRAND CONCOURSE   |                      |     NEW YORK     |         NY        |        10451         |               |                            |     2023-05-25    |         10.0        |          10.0          |           Earmark            |          EONE         |         PRODUCER        |                        |                      |                        |                           |                            |                             |                        |                        |                        |                       |                          |              |                 |                 |              |               |                  |           | Earmarked for BIDEN FOR PRESIDENT (C00703975) |                |         10451         |    michaela10451     |\n",
       "|  1720554  |   SA11AI  |         C00401224         | SA11AI_527825689 |                               |                           |     IND     |                               |        A ADAMS        |          GARY          |                         |                    |                    |    3411 48TH STREET    |                      |    DES MOINES    |         IA        |      503103219       |               |                            |     2023-05-04    |         25.0        |          25.0          |           Earmark            | ISL EDUCATION LENDING | SCHOOL SERVICES LIAISON |                        |                      |                        |                           |                            |                             |                        |                        |                        |                       |                          |              |                 |                 |              |               |                  |           | Earmarked for BIDEN FOR PRESIDENT (C00703975) |                |         50310         |   garya adams50310   |\n",
       "|  1720554  |   SA11AI  |         C00401224         | SA11AI_531049324 |                               |                           |     IND     |                               |        A ALLEY        |         JULIE          |                         |                    |                    |   5208 SW GENESEE ST   |                      |   SEATTLE, WA    |         WA        |        98116         |               |                            |     2023-05-31    |         25.0        |          25.0          |           Earmark            |        LIFELONG       |        IT MANAGER       |                        |                      |                        |                           |                            |                             |                        |                        |                        |                       |                          |              |                 |                 |              |               |                  |           | Earmarked for BIDEN FOR PRESIDENT (C00703975) |                |         98116         |  juliea alley98116   |\n",
       "|  1720554  |   SA11AI  |         C00401224         | SA11AI_526440924 |                               |                           |     IND     |                               |       A ANDREWS       |         SHARON         |                         |                    |                    |      1304 FOXX CT      |                      |   SUDLERSVILLE   |         MD        |        21668         |               |                            |     2023-04-25    |         10.0        |          20.0          |           Earmark            |      NOT EMPLOYED     |       NOT EMPLOYED      |                        |                      |                        |                           |                            |                             |                        |                        |                        |                       |                          |              |                 |                 |              |               |                  |           | Earmarked for BIDEN FOR PRESIDENT (C00703975) |                |         21668         | sharona andrews21668 |\n",
       "+-----------+-----------+---------------------------+------------------+-------------------------------+---------------------------+-------------+-------------------------------+-----------------------+------------------------+-------------------------+--------------------+--------------------+------------------------+----------------------+------------------+-------------------+----------------------+---------------+----------------------------+-------------------+---------------------+------------------------+------------------------------+-----------------------+-------------------------+------------------------+----------------------+------------------------+---------------------------+----------------------------+-----------------------------+------------------------+------------------------+------------------------+-----------------------+--------------------------+--------------+-----------------+-----------------+--------------+---------------+------------------+-----------+-----------------------------------------------+----------------+-----------------------+----------------------+"
      ]
     },
     "execution_count": 22,
     "metadata": {},
     "output_type": "execute_result"
    }
   ],
   "source": [
    "%%sql\n",
    "select * from biden_harris_itemizations limit 10;"
   ]
  },
  {
   "cell_type": "code",
   "execution_count": 23,
   "metadata": {
    "vscode": {
     "languageId": "sql"
    }
   },
   "outputs": [
    {
     "data": {
      "text/html": [
       "<span style=\"None\">Running query in &#x27;sqlite:///tmp.db&#x27;</span>"
      ],
      "text/plain": [
       "Running query in 'sqlite:///tmp.db'"
      ]
     },
     "metadata": {},
     "output_type": "display_data"
    },
    {
     "data": {
      "text/html": [
       "<table>\n",
       "    <thead>\n",
       "        <tr>\n",
       "            <th>min(contribution_date)</th>\n",
       "            <th>max(contribution_date)</th>\n",
       "        </tr>\n",
       "    </thead>\n",
       "    <tbody>\n",
       "        <tr>\n",
       "            <td>2023-04-25</td>\n",
       "            <td>2024-07-31</td>\n",
       "        </tr>\n",
       "    </tbody>\n",
       "</table>"
      ],
      "text/plain": [
       "+------------------------+------------------------+\n",
       "| min(contribution_date) | max(contribution_date) |\n",
       "+------------------------+------------------------+\n",
       "|       2023-04-25       |       2024-07-31       |\n",
       "+------------------------+------------------------+"
      ]
     },
     "execution_count": 23,
     "metadata": {},
     "output_type": "execute_result"
    }
   ],
   "source": [
    "%%sql\n",
    "select min(contribution_date), max(contribution_date) from biden_harris_itemizations;"
   ]
  },
  {
   "cell_type": "code",
   "execution_count": 24,
   "metadata": {
    "vscode": {
     "languageId": "sql"
    }
   },
   "outputs": [
    {
     "data": {
      "text/html": [
       "<span style=\"None\">Running query in &#x27;sqlite:///tmp.db&#x27;</span>"
      ],
      "text/plain": [
       "Running query in 'sqlite:///tmp.db'"
      ]
     },
     "metadata": {},
     "output_type": "display_data"
    },
    {
     "data": {
      "text/html": [
       "<table>\n",
       "    <thead>\n",
       "        <tr>\n",
       "            <th>memo_text_description</th>\n",
       "            <th>count(*)</th>\n",
       "        </tr>\n",
       "    </thead>\n",
       "    <tbody>\n",
       "        <tr>\n",
       "            <td>Earmarked for BIDEN VICTORY FUND (C00744946)</td>\n",
       "            <td>2389205</td>\n",
       "        </tr>\n",
       "        <tr>\n",
       "            <td>Earmarked for BIDEN FOR PRESIDENT (C00703975)</td>\n",
       "            <td>2139849</td>\n",
       "        </tr>\n",
       "        <tr>\n",
       "            <td>Earmarked for HARRIS FOR PRESIDENT (C00703975)</td>\n",
       "            <td>1766555</td>\n",
       "        </tr>\n",
       "        <tr>\n",
       "            <td>Earmarked for HARRIS VICTORY FUND (C00744946)</td>\n",
       "            <td>1526606</td>\n",
       "        </tr>\n",
       "        <tr>\n",
       "            <td>Earmarked for BIDEN BALDWIN VICTORY FUND (C00849281)</td>\n",
       "            <td>480</td>\n",
       "        </tr>\n",
       "        <tr>\n",
       "            <td>Earmarked for HARRIS BALDWIN VICTORY FUND (C00849281)</td>\n",
       "            <td>29</td>\n",
       "        </tr>\n",
       "    </tbody>\n",
       "</table>"
      ],
      "text/plain": [
       "+-------------------------------------------------------+----------+\n",
       "|                 memo_text_description                 | count(*) |\n",
       "+-------------------------------------------------------+----------+\n",
       "|      Earmarked for BIDEN VICTORY FUND (C00744946)     | 2389205  |\n",
       "|     Earmarked for BIDEN FOR PRESIDENT (C00703975)     | 2139849  |\n",
       "|     Earmarked for HARRIS FOR PRESIDENT (C00703975)    | 1766555  |\n",
       "|     Earmarked for HARRIS VICTORY FUND (C00744946)     | 1526606  |\n",
       "|  Earmarked for BIDEN BALDWIN VICTORY FUND (C00849281) |   480    |\n",
       "| Earmarked for HARRIS BALDWIN VICTORY FUND (C00849281) |    29    |\n",
       "+-------------------------------------------------------+----------+"
      ]
     },
     "execution_count": 24,
     "metadata": {},
     "output_type": "execute_result"
    }
   ],
   "source": [
    "\n",
    "%%sql\n",
    "select\n",
    "  memo_text_description,\n",
    "  count(*)\n",
    "from biden_harris_itemizations\n",
    "group by 1\n",
    "order by 2 desc;"
   ]
  },
  {
   "cell_type": "code",
   "execution_count": null,
   "metadata": {
    "vscode": {
     "languageId": "sql"
    }
   },
   "outputs": [],
   "source": []
  },
  {
   "cell_type": "code",
   "execution_count": 25,
   "metadata": {
    "vscode": {
     "languageId": "sql"
    }
   },
   "outputs": [
    {
     "data": {
      "text/html": [
       "<span style=\"None\">Running query in &#x27;sqlite:///tmp.db&#x27;</span>"
      ],
      "text/plain": [
       "Running query in 'sqlite:///tmp.db'"
      ]
     },
     "metadata": {},
     "output_type": "display_data"
    },
    {
     "name": "stderr",
     "output_type": "stream",
     "text": [
      "RuntimeError: (sqlite3.OperationalError) database table is locked\n",
      "[SQL: drop table if exists temp.contributor_stats;]\n",
      "(Background on this error at: https://sqlalche.me/e/20/e3q8)\n",
      "If you need help solving this issue, send us a message: https://ploomber.io/community\n"
     ]
    }
   ],
   "source": [
    "%%sql\n",
    "drop table if exists temp.contributor_stats;\n",
    "create temp table contributor_stats as\n",
    "select\n",
    "  contributor_id,\n",
    "  contributor_state,\n",
    "  contributor_zip_code5,\n",
    "  count(*) filter (where contribution_date < '2024-07-21') > 0 as biden_donor,\n",
    "  count(*) filter (where contribution_date >= '2024-07-21') > 0 as harris_donor,\n",
    "  sum(contribution_amount) as total_contribution_amount,\n",
    "  sum(contribution_amount) filter (where contribution_date < '2024-07-21')  as biden_contribution_amount,\n",
    "  sum(contribution_amount) filter (where contribution_date >= '2024-07-21') as harris_contribution_amount\n",
    "\n",
    "from biden_harris_itemizations\n",
    "group by 1;"
   ]
  },
  {
   "cell_type": "code",
   "execution_count": null,
   "metadata": {
    "vscode": {
     "languageId": "sql"
    }
   },
   "outputs": [
    {
     "data": {
      "text/html": [
       "<span style=\"None\">Running query in &#x27;sqlite:///tmp.db&#x27;</span>"
      ],
      "text/plain": [
       "Running query in 'sqlite:///tmp.db'"
      ]
     },
     "metadata": {},
     "output_type": "display_data"
    },
    {
     "data": {
      "text/html": [
       "<table>\n",
       "    <thead>\n",
       "        <tr>\n",
       "            <th>contribution_date</th>\n",
       "            <th>count(distinct contributor_id)</th>\n",
       "        </tr>\n",
       "    </thead>\n",
       "    <tbody>\n",
       "        <tr>\n",
       "            <td>2024-07-01</td>\n",
       "            <td>48058</td>\n",
       "        </tr>\n",
       "        <tr>\n",
       "            <td>2024-07-02</td>\n",
       "            <td>46386</td>\n",
       "        </tr>\n",
       "        <tr>\n",
       "            <td>2024-07-03</td>\n",
       "            <td>40518</td>\n",
       "        </tr>\n",
       "        <tr>\n",
       "            <td>2024-07-04</td>\n",
       "            <td>32092</td>\n",
       "        </tr>\n",
       "        <tr>\n",
       "            <td>2024-07-05</td>\n",
       "            <td>34302</td>\n",
       "        </tr>\n",
       "        <tr>\n",
       "            <td>2024-07-06</td>\n",
       "            <td>34812</td>\n",
       "        </tr>\n",
       "        <tr>\n",
       "            <td>2024-07-07</td>\n",
       "            <td>22416</td>\n",
       "        </tr>\n",
       "        <tr>\n",
       "            <td>2024-07-08</td>\n",
       "            <td>29382</td>\n",
       "        </tr>\n",
       "        <tr>\n",
       "            <td>2024-07-09</td>\n",
       "            <td>25850</td>\n",
       "        </tr>\n",
       "        <tr>\n",
       "            <td>2024-07-10</td>\n",
       "            <td>23328</td>\n",
       "        </tr>\n",
       "    </tbody>\n",
       "</table>\n",
       "<span style=\"font-style:italic;text-align:center;\">Truncated to <a href=\"https://jupysql.ploomber.io/en/latest/api/configuration.html#displaylimit\">displaylimit</a> of 10.</span>"
      ],
      "text/plain": [
       "+-------------------+--------------------------------+\n",
       "| contribution_date | count(distinct contributor_id) |\n",
       "+-------------------+--------------------------------+\n",
       "|     2024-07-01    |             48058              |\n",
       "|     2024-07-02    |             46386              |\n",
       "|     2024-07-03    |             40518              |\n",
       "|     2024-07-04    |             32092              |\n",
       "|     2024-07-05    |             34302              |\n",
       "|     2024-07-06    |             34812              |\n",
       "|     2024-07-07    |             22416              |\n",
       "|     2024-07-08    |             29382              |\n",
       "|     2024-07-09    |             25850              |\n",
       "|     2024-07-10    |             23328              |\n",
       "+-------------------+--------------------------------+\n",
       "Truncated to displaylimit of 10."
      ]
     },
     "execution_count": 7,
     "metadata": {},
     "output_type": "execute_result"
    }
   ],
   "source": [
    "%%sql\n",
    "select\n",
    "  contribution_date,\n",
    "  count(distinct contributor_id)\n",
    "from biden_harris_itemizations\n",
    "where contribution_date between '2024-07-01' and '2024-07-20'\n",
    "group by 1\n",
    "order by 1;"
   ]
  },
  {
   "cell_type": "code",
   "execution_count": null,
   "metadata": {
    "vscode": {
     "languageId": "sql"
    }
   },
   "outputs": [
    {
     "data": {
      "text/html": [
       "<span style=\"None\">Running query in &#x27;sqlite:///tmp.db&#x27;</span>"
      ],
      "text/plain": [
       "Running query in 'sqlite:///tmp.db'"
      ]
     },
     "metadata": {},
     "output_type": "display_data"
    },
    {
     "data": {
      "text/html": [
       "<table>\n",
       "    <thead>\n",
       "        <tr>\n",
       "            <th>contribution_date</th>\n",
       "            <th>biden_harris_donor</th>\n",
       "            <th>harris_only_supporter</th>\n",
       "        </tr>\n",
       "    </thead>\n",
       "    <tbody>\n",
       "        <tr>\n",
       "            <td>2024-07-21</td>\n",
       "            <td>208019</td>\n",
       "            <td>299486</td>\n",
       "        </tr>\n",
       "        <tr>\n",
       "            <td>2024-07-22</td>\n",
       "            <td>183605</td>\n",
       "            <td>414385</td>\n",
       "        </tr>\n",
       "        <tr>\n",
       "            <td>2024-07-23</td>\n",
       "            <td>83167</td>\n",
       "            <td>211140</td>\n",
       "        </tr>\n",
       "        <tr>\n",
       "            <td>2024-07-24</td>\n",
       "            <td>54875</td>\n",
       "            <td>122716</td>\n",
       "        </tr>\n",
       "        <tr>\n",
       "            <td>2024-07-25</td>\n",
       "            <td>44783</td>\n",
       "            <td>98375</td>\n",
       "        </tr>\n",
       "        <tr>\n",
       "            <td>2024-07-26</td>\n",
       "            <td>31739</td>\n",
       "            <td>68435</td>\n",
       "        </tr>\n",
       "        <tr>\n",
       "            <td>2024-07-27</td>\n",
       "            <td>38265</td>\n",
       "            <td>63320</td>\n",
       "        </tr>\n",
       "        <tr>\n",
       "            <td>2024-07-28</td>\n",
       "            <td>42495</td>\n",
       "            <td>68483</td>\n",
       "        </tr>\n",
       "        <tr>\n",
       "            <td>2024-07-29</td>\n",
       "            <td>66137</td>\n",
       "            <td>133476</td>\n",
       "        </tr>\n",
       "        <tr>\n",
       "            <td>2024-07-30</td>\n",
       "            <td>48328</td>\n",
       "            <td>83804</td>\n",
       "        </tr>\n",
       "    </tbody>\n",
       "</table>\n",
       "<span style=\"font-style:italic;text-align:center;\">Truncated to <a href=\"https://jupysql.ploomber.io/en/latest/api/configuration.html#displaylimit\">displaylimit</a> of 10.</span>"
      ],
      "text/plain": [
       "+-------------------+--------------------+-----------------------+\n",
       "| contribution_date | biden_harris_donor | harris_only_supporter |\n",
       "+-------------------+--------------------+-----------------------+\n",
       "|     2024-07-21    |       208019       |         299486        |\n",
       "|     2024-07-22    |       183605       |         414385        |\n",
       "|     2024-07-23    |       83167        |         211140        |\n",
       "|     2024-07-24    |       54875        |         122716        |\n",
       "|     2024-07-25    |       44783        |         98375         |\n",
       "|     2024-07-26    |       31739        |         68435         |\n",
       "|     2024-07-27    |       38265        |         63320         |\n",
       "|     2024-07-28    |       42495        |         68483         |\n",
       "|     2024-07-29    |       66137        |         133476        |\n",
       "|     2024-07-30    |       48328        |         83804         |\n",
       "+-------------------+--------------------+-----------------------+\n",
       "Truncated to displaylimit of 10."
      ]
     },
     "execution_count": 8,
     "metadata": {},
     "output_type": "execute_result"
    }
   ],
   "source": [
    "\n",
    "%%sql\n",
    "with biden_donors as materialized (\n",
    "  select contributor_id\n",
    "  from contributor_stats\n",
    "  where biden_donor\n",
    ")\n",
    "select\n",
    "  contribution_date,\n",
    "  count(distinct contributor_id) filter (\n",
    "    where contributor_id in biden_donors\n",
    "  ) as biden_harris_donor,\n",
    "  count(distinct contributor_id) filter (\n",
    "    where contributor_id not in biden_donors\n",
    "  ) as harris_only_supporter\n",
    "from biden_harris_itemizations\n",
    "where contribution_date between '2024-07-21' and '2024-08-01'\n",
    "group by 1\n",
    "order by 1;"
   ]
  },
  {
   "cell_type": "code",
   "execution_count": null,
   "metadata": {
    "vscode": {
     "languageId": "sql"
    }
   },
   "outputs": [
    {
     "data": {
      "text/html": [
       "<span style=\"None\">Running query in &#x27;sqlite:///tmp.db&#x27;</span>"
      ],
      "text/plain": [
       "Running query in 'sqlite:///tmp.db'"
      ]
     },
     "metadata": {},
     "output_type": "display_data"
    },
    {
     "data": {
      "text/html": [
       "<table>\n",
       "    <thead>\n",
       "        <tr>\n",
       "            <th>num_biden_donors</th>\n",
       "            <th>num_harris_donors</th>\n",
       "            <th>only_harris_ratios</th>\n",
       "            <th>biden_raised_total</th>\n",
       "            <th>harris_raised_total</th>\n",
       "        </tr>\n",
       "    </thead>\n",
       "    <tbody>\n",
       "        <tr>\n",
       "            <td>240</td>\n",
       "            <td>236</td>\n",
       "            <td>0.6864406779661016</td>\n",
       "            <td>24917.24</td>\n",
       "            <td>14852.5</td>\n",
       "        </tr>\n",
       "    </tbody>\n",
       "</table>"
      ],
      "text/plain": [
       "+------------------+-------------------+--------------------+--------------------+---------------------+\n",
       "| num_biden_donors | num_harris_donors | only_harris_ratios | biden_raised_total | harris_raised_total |\n",
       "+------------------+-------------------+--------------------+--------------------+---------------------+\n",
       "|       240        |        236        | 0.6864406779661016 |      24917.24      |       14852.5       |\n",
       "+------------------+-------------------+--------------------+--------------------+---------------------+"
      ]
     },
     "execution_count": 9,
     "metadata": {},
     "output_type": "execute_result"
    }
   ],
   "source": [
    "%%sql\n",
    "select\n",
    "  sum(biden_donor) as num_biden_donors,\n",
    "  sum(harris_donor) as num_harris_donors,\n",
    "  --sum(harris_donor and not biden_donor) as num_harris_not_biden_donors,\n",
    "  1.0 * sum(harris_donor and not biden_donor) / sum(harris_donor) as only_harris_ratios,\n",
    "  sum(biden_contribution_amount) as biden_raised_total,\n",
    "  sum(harris_contribution_amount) as harris_raised_total\n",
    "from contributor_stats\n",
    "where contributor_zip_code5 == '90601';"
   ]
  },
  {
   "cell_type": "code",
   "execution_count": null,
   "metadata": {
    "vscode": {
     "languageId": "sql"
    }
   },
   "outputs": [],
   "source": []
  },
  {
   "cell_type": "code",
   "execution_count": null,
   "metadata": {
    "vscode": {
     "languageId": "sql"
    }
   },
   "outputs": [
    {
     "data": {
      "text/html": [
       "<span style=\"None\">displaylimit: Value None will be treated as 0 (no limit)</span>"
      ],
      "text/plain": [
       "displaylimit: Value None will be treated as 0 (no limit)"
      ]
     },
     "metadata": {},
     "output_type": "display_data"
    }
   ],
   "source": [
    "%config SqlMagic.displaylimit = None\n"
   ]
  },
  {
   "cell_type": "code",
   "execution_count": null,
   "metadata": {
    "vscode": {
     "languageId": "sql"
    }
   },
   "outputs": [
    {
     "data": {
      "text/html": [
       "<span style=\"None\">Running query in &#x27;sqlite:///tmp.db&#x27;</span>"
      ],
      "text/plain": [
       "Running query in 'sqlite:///tmp.db'"
      ]
     },
     "metadata": {},
     "output_type": "display_data"
    },
    {
     "data": {
      "text/html": [
       "<table>\n",
       "    <thead>\n",
       "        <tr>\n",
       "            <th>count(*)</th>\n",
       "        </tr>\n",
       "    </thead>\n",
       "    <tbody>\n",
       "        <tr>\n",
       "            <td>3511991</td>\n",
       "        </tr>\n",
       "    </tbody>\n",
       "</table>"
      ],
      "text/plain": [
       "+----------+\n",
       "| count(*) |\n",
       "+----------+\n",
       "| 3511991  |\n",
       "+----------+"
      ]
     },
     "execution_count": 17,
     "metadata": {},
     "output_type": "execute_result"
    }
   ],
   "source": [
    "%%sql\n",
    "select count(*) from contributor_stats;"
   ]
  },
  {
   "cell_type": "code",
   "execution_count": null,
   "metadata": {
    "vscode": {
     "languageId": "sql"
    }
   },
   "outputs": [
    {
     "data": {
      "text/html": [
       "<span style=\"None\">Running query in &#x27;sqlite:///tmp.db&#x27;</span>"
      ],
      "text/plain": [
       "Running query in 'sqlite:///tmp.db'"
      ]
     },
     "metadata": {},
     "output_type": "display_data"
    },
    {
     "data": {
      "text/html": [
       "<table>\n",
       "    <thead>\n",
       "        <tr>\n",
       "            <th>contributor_id</th>\n",
       "            <th>contributor_state</th>\n",
       "            <th>contributor_zip_code5</th>\n",
       "            <th>biden_donor</th>\n",
       "            <th>harris_donor</th>\n",
       "            <th>total_contribution_amount</th>\n",
       "            <th>biden_contribution_amount</th>\n",
       "            <th>harris_contribution_amount</th>\n",
       "        </tr>\n",
       "    </thead>\n",
       "    <tbody>\n",
       "        <tr>\n",
       "            <td> adahlia romeroromero31707</td>\n",
       "            <td>GA</td>\n",
       "            <td>31707</td>\n",
       "            <td>0</td>\n",
       "            <td>1</td>\n",
       "            <td>2.0</td>\n",
       "            <td>None</td>\n",
       "            <td>2.0</td>\n",
       "        </tr>\n",
       "        <tr>\n",
       "            <td> davidmindak10011</td>\n",
       "            <td>NY</td>\n",
       "            <td>10011</td>\n",
       "            <td>1</td>\n",
       "            <td>0</td>\n",
       "            <td>15.0</td>\n",
       "            <td>15.0</td>\n",
       "            <td>None</td>\n",
       "        </tr>\n",
       "        <tr>\n",
       "            <td> halimachakouk60637</td>\n",
       "            <td>IL</td>\n",
       "            <td>60637</td>\n",
       "            <td>0</td>\n",
       "            <td>1</td>\n",
       "            <td>10.0</td>\n",
       "            <td>None</td>\n",
       "            <td>10.0</td>\n",
       "        </tr>\n",
       "        <tr>\n",
       "            <td> mindy leehappycampers92236</td>\n",
       "            <td>CA</td>\n",
       "            <td>92236</td>\n",
       "            <td>0</td>\n",
       "            <td>1</td>\n",
       "            <td>20.0</td>\n",
       "            <td>None</td>\n",
       "            <td>20.0</td>\n",
       "        </tr>\n",
       "        <tr>\n",
       "            <td>! mariaalfaro-brooks95492</td>\n",
       "            <td>CA</td>\n",
       "            <td>95492</td>\n",
       "            <td>0</td>\n",
       "            <td>1</td>\n",
       "            <td>500.0</td>\n",
       "            <td>None</td>\n",
       "            <td>500.0</td>\n",
       "        </tr>\n",
       "        <tr>\n",
       "            <td>!molliefair29412</td>\n",
       "            <td>SC</td>\n",
       "            <td>29412</td>\n",
       "            <td>1</td>\n",
       "            <td>0</td>\n",
       "            <td>100.0</td>\n",
       "            <td>100.0</td>\n",
       "            <td>None</td>\n",
       "        </tr>\n",
       "        <tr>\n",
       "            <td># briansheehan80020</td>\n",
       "            <td>CO</td>\n",
       "            <td>80020</td>\n",
       "            <td>1</td>\n",
       "            <td>1</td>\n",
       "            <td>100.0</td>\n",
       "            <td>25.0</td>\n",
       "            <td>75.0</td>\n",
       "        </tr>\n",
       "        <tr>\n",
       "            <td>#2 douglas shimmerbrown23456</td>\n",
       "            <td>VA</td>\n",
       "            <td>23456</td>\n",
       "            <td>1</td>\n",
       "            <td>0</td>\n",
       "            <td>125.0</td>\n",
       "            <td>125.0</td>\n",
       "            <td>None</td>\n",
       "        </tr>\n",
       "        <tr>\n",
       "            <td>#balcurtis92651</td>\n",
       "            <td>CA</td>\n",
       "            <td>92651</td>\n",
       "            <td>1</td>\n",
       "            <td>0</td>\n",
       "            <td>200.0</td>\n",
       "            <td>200.0</td>\n",
       "            <td>None</td>\n",
       "        </tr>\n",
       "        <tr>\n",
       "            <td>#balwright17815</td>\n",
       "            <td>PA</td>\n",
       "            <td>17815</td>\n",
       "            <td>0</td>\n",
       "            <td>1</td>\n",
       "            <td>35.0</td>\n",
       "            <td>None</td>\n",
       "            <td>35.0</td>\n",
       "        </tr>\n",
       "    </tbody>\n",
       "</table>"
      ],
      "text/plain": [
       "+------------------------------+-------------------+-----------------------+-------------+--------------+---------------------------+---------------------------+----------------------------+\n",
       "|        contributor_id        | contributor_state | contributor_zip_code5 | biden_donor | harris_donor | total_contribution_amount | biden_contribution_amount | harris_contribution_amount |\n",
       "+------------------------------+-------------------+-----------------------+-------------+--------------+---------------------------+---------------------------+----------------------------+\n",
       "|   adahlia romeroromero31707  |         GA        |         31707         |      0      |      1       |            2.0            |            None           |            2.0             |\n",
       "|       davidmindak10011       |         NY        |         10011         |      1      |      0       |            15.0           |            15.0           |            None            |\n",
       "|      halimachakouk60637      |         IL        |         60637         |      0      |      1       |            10.0           |            None           |            10.0            |\n",
       "|  mindy leehappycampers92236  |         CA        |         92236         |      0      |      1       |            20.0           |            None           |            20.0            |\n",
       "|  ! mariaalfaro-brooks95492   |         CA        |         95492         |      0      |      1       |           500.0           |            None           |           500.0            |\n",
       "|       !molliefair29412       |         SC        |         29412         |      1      |      0       |           100.0           |           100.0           |            None            |\n",
       "|     # briansheehan80020      |         CO        |         80020         |      1      |      1       |           100.0           |            25.0           |            75.0            |\n",
       "| #2 douglas shimmerbrown23456 |         VA        |         23456         |      1      |      0       |           125.0           |           125.0           |            None            |\n",
       "|       #balcurtis92651        |         CA        |         92651         |      1      |      0       |           200.0           |           200.0           |            None            |\n",
       "|       #balwright17815        |         PA        |         17815         |      0      |      1       |            35.0           |            None           |            35.0            |\n",
       "+------------------------------+-------------------+-----------------------+-------------+--------------+---------------------------+---------------------------+----------------------------+"
      ]
     },
     "execution_count": 18,
     "metadata": {},
     "output_type": "execute_result"
    }
   ],
   "source": [
    "%%sql\n",
    "select * from contributor_stats limit 10;"
   ]
  },
  {
   "cell_type": "code",
   "execution_count": null,
   "metadata": {
    "vscode": {
     "languageId": "sql"
    }
   },
   "outputs": [
    {
     "data": {
      "text/html": [
       "<span style=\"None\">Running query in &#x27;sqlite:///tmp.db&#x27;</span>"
      ],
      "text/plain": [
       "Running query in 'sqlite:///tmp.db'"
      ]
     },
     "metadata": {},
     "output_type": "display_data"
    },
    {
     "data": {
      "text/html": [
       "<table>\n",
       "    <thead>\n",
       "        <tr>\n",
       "            <th>contributor_state</th>\n",
       "            <th>count()</th>\n",
       "            <th>harris_not_biden_ratio</th>\n",
       "        </tr>\n",
       "    </thead>\n",
       "    <tbody>\n",
       "        <tr>\n",
       "            <td>CA</td>\n",
       "            <td>568607</td>\n",
       "            <td>0.6846144022703087</td>\n",
       "        </tr>\n",
       "        <tr>\n",
       "            <td>NY</td>\n",
       "            <td>253832</td>\n",
       "            <td>0.701840377323592</td>\n",
       "        </tr>\n",
       "        <tr>\n",
       "            <td>FL</td>\n",
       "            <td>210449</td>\n",
       "            <td>0.6764841980500239</td>\n",
       "        </tr>\n",
       "        <tr>\n",
       "            <td>TX</td>\n",
       "            <td>191440</td>\n",
       "            <td>0.7155082111238764</td>\n",
       "        </tr>\n",
       "        <tr>\n",
       "            <td>WA</td>\n",
       "            <td>141266</td>\n",
       "            <td>0.692919465678326</td>\n",
       "        </tr>\n",
       "        <tr>\n",
       "            <td>IL</td>\n",
       "            <td>134282</td>\n",
       "            <td>0.7132245969697328</td>\n",
       "        </tr>\n",
       "        <tr>\n",
       "            <td>PA</td>\n",
       "            <td>131852</td>\n",
       "            <td>0.676127126742036</td>\n",
       "        </tr>\n",
       "        <tr>\n",
       "            <td>MA</td>\n",
       "            <td>128121</td>\n",
       "            <td>0.693892934868509</td>\n",
       "        </tr>\n",
       "        <tr>\n",
       "            <td>VA</td>\n",
       "            <td>111363</td>\n",
       "            <td>0.7025438658304559</td>\n",
       "        </tr>\n",
       "        <tr>\n",
       "            <td>NC</td>\n",
       "            <td>107701</td>\n",
       "            <td>0.7095699352765124</td>\n",
       "        </tr>\n",
       "    </tbody>\n",
       "</table>"
      ],
      "text/plain": [
       "+-------------------+---------+------------------------+\n",
       "| contributor_state | count() | harris_not_biden_ratio |\n",
       "+-------------------+---------+------------------------+\n",
       "|         CA        |  568607 |   0.6846144022703087   |\n",
       "|         NY        |  253832 |   0.701840377323592    |\n",
       "|         FL        |  210449 |   0.6764841980500239   |\n",
       "|         TX        |  191440 |   0.7155082111238764   |\n",
       "|         WA        |  141266 |   0.692919465678326    |\n",
       "|         IL        |  134282 |   0.7132245969697328   |\n",
       "|         PA        |  131852 |   0.676127126742036    |\n",
       "|         MA        |  128121 |   0.693892934868509    |\n",
       "|         VA        |  111363 |   0.7025438658304559   |\n",
       "|         NC        |  107701 |   0.7095699352765124   |\n",
       "+-------------------+---------+------------------------+"
      ]
     },
     "execution_count": 19,
     "metadata": {},
     "output_type": "execute_result"
    }
   ],
   "source": [
    "\n",
    "%%sql\n",
    "select\n",
    "  contributor_state,\n",
    "  count(),\n",
    "  1.0 * sum(harris_donor and not biden_donor) / sum(harris_donor) as harris_not_biden_ratio\n",
    "from contributor_stats\n",
    "group by 1\n",
    "order by 2 desc\n",
    "limit 10;"
   ]
  },
  {
   "cell_type": "code",
   "execution_count": null,
   "metadata": {
    "vscode": {
     "languageId": "sql"
    }
   },
   "outputs": [],
   "source": []
  },
  {
   "cell_type": "code",
   "execution_count": null,
   "metadata": {
    "vscode": {
     "languageId": "sql"
    }
   },
   "outputs": [
    {
     "data": {
      "text/html": [
       "<span style=\"None\">Running query in &#x27;sqlite:///tmp.db&#x27;</span>"
      ],
      "text/plain": [
       "Running query in 'sqlite:///tmp.db'"
      ]
     },
     "metadata": {},
     "output_type": "display_data"
    },
    {
     "data": {
      "text/html": [
       "<table>\n",
       "    <thead>\n",
       "        <tr>\n",
       "            <th>sum(contribution_amount)</th>\n",
       "            <th>min(contribution_date)</th>\n",
       "            <th>max(contribution_date)</th>\n",
       "        </tr>\n",
       "    </thead>\n",
       "    <tbody>\n",
       "        <tr>\n",
       "            <td>434363067.05</td>\n",
       "            <td>2023-04-25</td>\n",
       "            <td>2024-07-31</td>\n",
       "        </tr>\n",
       "    </tbody>\n",
       "</table>"
      ],
      "text/plain": [
       "+--------------------------+------------------------+------------------------+\n",
       "| sum(contribution_amount) | min(contribution_date) | max(contribution_date) |\n",
       "+--------------------------+------------------------+------------------------+\n",
       "|       434363067.05       |       2023-04-25       |       2024-07-31       |\n",
       "+--------------------------+------------------------+------------------------+"
      ]
     },
     "execution_count": 12,
     "metadata": {},
     "output_type": "execute_result"
    }
   ],
   "source": [
    "%%sql\n",
    "select\n",
    "  sum(contribution_amount),\n",
    "  min(contribution_date),\n",
    "  max(contribution_date)\n",
    "  --sum(contribution_amount) filter (where contribution_amount < 200) as small_contribution_total,\n",
    "  --sum(contribution_amount) filter (where contribution_amount >= 200) as large_contribution_total\n",
    "from biden_harris_itemizations"
   ]
  },
  {
   "cell_type": "code",
   "execution_count": null,
   "metadata": {
    "vscode": {
     "languageId": "sql"
    }
   },
   "outputs": [
    {
     "data": {
      "text/html": [
       "<span style=\"None\">Running query in &#x27;sqlite:///tmp.db&#x27;</span>"
      ],
      "text/plain": [
       "Running query in 'sqlite:///tmp.db'"
      ]
     },
     "metadata": {},
     "output_type": "display_data"
    }
   ],
   "source": [
    "%%sql by_date <<\n",
    "select\n",
    "  contribution_date,\n",
    "  'small' as contribution_type,\n",
    "  sum(contribution_amount) as contribution_amount\n",
    "from biden_harris_itemizations\n",
    "where contribution_amount < 200\n",
    "group by 1\n",
    "\n",
    "union all\n",
    "\n",
    "select\n",
    "  contribution_date,\n",
    "  'large' as contribution_type,\n",
    "  sum(contribution_amount) as contribution_amount\n",
    "from biden_harris_itemizations\n",
    "where contribution_amount >= 200\n",
    "group by 1"
   ]
  },
  {
   "cell_type": "code",
   "execution_count": null,
   "metadata": {
    "vscode": {
     "languageId": "sql"
    }
   },
   "outputs": [
    {
     "data": {
      "text/html": [
       "<a href=\"./files/by-date-size2.csv\">CSV results</a>"
      ],
      "text/plain": [
       "CSV results at /Users/alex/projects/libfec/examples/latimes-harris-new/by-date-size2.csv"
      ]
     },
     "execution_count": 14,
     "metadata": {},
     "output_type": "execute_result"
    }
   ],
   "source": [
    "by_date.csv(filename=\"by-date-size2.csv\")"
   ]
  },
  {
   "cell_type": "code",
   "execution_count": null,
   "metadata": {
    "vscode": {
     "languageId": "sql"
    }
   },
   "outputs": [
    {
     "data": {
      "text/html": [
       "<span style=\"None\">Running query in &#x27;sqlite:///tmp.db&#x27;</span>"
      ],
      "text/plain": [
       "Running query in 'sqlite:///tmp.db'"
      ]
     },
     "metadata": {},
     "output_type": "display_data"
    },
    {
     "name": "stderr",
     "output_type": "stream",
     "text": [
      "RuntimeError: If using snippets, you may pass the --with argument explicitly.\n",
      "For more details please refer: https://jupysql.ploomber.io/en/latest/compose.html#with-argument\n",
      "\n",
      "\n",
      "Original error message from DB driver:\n",
      "(sqlite3.OperationalError) no such table: temp.x\n",
      "[SQL: select contribution_date, sum(\"sum(contribution_amount)\") over (order by contribution_date) from temp.x;]\n",
      "(Background on this error at: https://sqlalche.me/e/20/e3q8)\n",
      "\n",
      "If you need help solving this issue, send us a message: https://ploomber.io/community\n"
     ]
    }
   ],
   "source": [
    "%%sql\n",
    "select contribution_date, sum(\"sum(contribution_amount)\") over (order by contribution_date) from temp.x;"
   ]
  }
 ],
 "metadata": {
  "kernelspec": {
   "display_name": ".venv",
   "language": "python",
   "name": "python3"
  },
  "language_info": {
   "codemirror_mode": {
    "name": "ipython",
    "version": 3
   },
   "file_extension": ".py",
   "mimetype": "text/x-python",
   "name": "python",
   "nbconvert_exporter": "python",
   "pygments_lexer": "ipython3",
   "version": "3.12.5"
  }
 },
 "nbformat": 4,
 "nbformat_minor": 2
}
