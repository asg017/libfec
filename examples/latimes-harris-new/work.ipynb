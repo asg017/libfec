{
 "cells": [
  {
   "cell_type": "markdown",
   "metadata": {},
   "source": [
    "# Using `libfec` to (almost) replicate an LA Times campaign finance story\n",
    "\n",
    "Gabrielle LaMarr LeMee and Sandhya Kambhampati of the LA Times published \n",
    "[*\"More than half of Harris donors had not given to Biden’s 2024 campaign\"*](https://www.latimes.com/politics/story/2024-08-27/where-kamala-harris-most-new-donors-july-2024-election)\n",
    "on August 27th of 2024. It details the composition of Kamala Harris supporters in the weeks following Biden's resignation\n",
    "and subsequent endorsement of Kamala Harris' presidential campaign. \n",
    "\n",
    "Let's try to recreate the story, using the `libfec` CLI and SQLite!"
   ]
  },
  {
   "cell_type": "markdown",
   "metadata": {},
   "source": [
    "## Small caveat: not a full replication\n",
    "\n",
    "The LA Times article uses a few different committee filings to source their data, while here we will only focus on receipts reported \n",
    "by ActBlue. This is nearly everything, but the data found here will be slightly incomplete compared to the LA Times analysis. "
   ]
  },
  {
   "cell_type": "markdown",
   "metadata": {},
   "source": [
    "## Step 1: Sourcing all ActBlue data\n",
    "\n",
    "The LAT article contains this nerdbox about the dataset they analyzed:\n",
    "\n",
    "> *The Times analysis is based on Federal Election Commission filings as of Aug. 20. The Times analysis includes itemized contributions to **Harris for President, Harris Victory Fund, Harris Baldwin Victory Fund, and Harris Action Fund**. Some contributions to these committees were **given through ActBlue**. A donor was determined to be a prior Biden donor if a donation from their unique combination of first name, last name and ZIP Code had been made **from Jan. 2023 to July 20, 2024**.*\n",
    "\n",
    "So we're looking at data as early as January 2023, from ActBlue (for this replication), and for those four specific committees. \n",
    "\n",
    "We can use `libfec` to download this data directly from the ActBlue filings, we'll just need to find the relevent FEC filing IDs. Looking at [the ActBlue FEC commitee webpage](https://docquery.fec.gov/cgi-bin/forms/C00401224/), we can see all the filings that ActBlue have submitted, and we care about the `F3X` forms. This is [FEC Form 3X](https://www.fec.gov/resources/cms-content/documents/policy-guidance/fecfrm3x.pdf), aka \"Report of Receipts and Disbursements\", that committees like ActBlue file. \n",
    "\n",
    "Here we care about the following rows from that table:\n",
    "\n",
    "\n",
    "|Form Type| Filing ID| Coverate Start | Coverage End | Report Type| Filed on\n",
    "|-|-|-|-|-|-|\n",
    "| `F3XN` | `FEC-1812188`|\t07/01/2024\t|07/31/2024|\tAUG MONTHLY\t| 08/20/2024\n",
    "| `F3XN` | `FEC-1805179`|\t06/01/2024\t|06/30/2024|\tJUL MONTHLY\t| 07/20/2024\n",
    "| `F3XN` | `FEC-1791562`|\t05/01/2024\t|05/31/2024|\tJUN MONTHLY\t| 06/20/2024 \n",
    "| `F3XN` | `FEC-1785179`|\t04/01/2024\t|04/30/2024|\tMAY MONTHLY\t| 05/20/2024\n",
    "| `F3XN` | `FEC-1779040`|\t03/01/2024\t|03/31/2024|\tAPR MONTHLY\t| 04/20/2024\n",
    "| `F3XN` | `FEC-1765652`|\t02/01/2024\t|02/29/2024|\tMAR MONTHLY\t| 03/20/2024\n",
    "| `F3XN` | `FEC-1758569`|\t01/01/2024\t|01/31/2024|\tFEB MONTHLY\t| 02/21/2024\n",
    "| `F3XN` | `FEC-1752852`|\t07/01/2023\t|12/31/2023|\tYEAR-END\t| 01/31/2024\n",
    "| `F3XN` | `FEC-1720554`|\t01/01/2023\t|06/30/2023|\tMID-YEAR\t| 07/31/2023"
   ]
  },
  {
   "cell_type": "markdown",
   "metadata": {},
   "source": [
    "These cover the entire time range (2023 to the present) that we care about.\n",
    "\n",
    "To access the itemizations from these filings, we can use the `libfec` CLI to download and parse these filings without needing to download them manually. \n",
    "We could provide these IDs one-by-one on the command line, or we can add them to an \"input file\" that `libfec` can read directly. \n",
    "We do that here, placing these IDs in a text file called `actblue-202301-202407.txt`:"
   ]
  },
  {
   "cell_type": "code",
   "execution_count": 1,
   "metadata": {},
   "outputs": [
    {
     "name": "stdout",
     "output_type": "stream",
     "text": [
      "FEC-1812188\n",
      "FEC-1805179\n",
      "FEC-1791562\n",
      "FEC-1785179\n",
      "FEC-1779040\n",
      "FEC-1765652\n",
      "FEC-1758569\n",
      "FEC-1752852\n",
      "FEC-1720554\n"
     ]
    }
   ],
   "source": [
    "! cat actblue-202301-202407.txt"
   ]
  },
  {
   "cell_type": "markdown",
   "metadata": {},
   "source": [
    "Now let's download these filings with the `libfec` CLI:\n",
    "\n",
    "\n",
    "```bash\n",
    "libfec export -i actblue-202301-202407.txt --target schedule-a -o actblue-202301-202407.db\n",
    "```\n",
    "\n",
    "A bit more about what this command does:\n",
    "- The `export` command will export all the itemizations in the provided FEC filings to a SQLite database\n",
    "- The `-i actblue-202301-202407.txt` argument tells `libfec` to download the filing IDs present in the `actblue-202301-202407.txt` file, which we prepared above. \n",
    "- The `--target schedule-a` argument tells `libfec` to only export Schedule A itemizations, which are \"receipts\" (contributions). A single `libfec_schedule_a` table will be created. \n",
    "- The `-o actblue-all.db` argument is the path to the output SQLite database, that `libfec` will create and populate. \n",
    "\n",
    "This will take some time! It's `~28GB` of data to download, and the output SQLite database will be `~15 GB` large.\n",
    "\n",
    "Once complete, we will have a large `actblue-202301-202407.db` SQLite database with a single large table: `libfec_schedule_a`. "
   ]
  },
  {
   "cell_type": "markdown",
   "metadata": {},
   "source": [
    "For the rest of this notebook, we're done using `libfec`! We have all the data we need in this SQLite database. \n",
    "We can filter and aggregate this dataset as needed using pure SQL. \n",
    "You could also use other data analysis tools in other programming languages (Python+Pandas, R+dpylr, JavaScript+Observable), all of which support querying SQLite databases.\n",
    "\n",
    "In this notebook, We'll use [JupySQL](https://jupysql.ploomber.io/en/latest/quick-start.html) to keep everything in pure SQL,\n",
    "to make it easier to copy+paste into your favorite tools. "
   ]
  },
  {
   "cell_type": "markdown",
   "metadata": {},
   "source": [
    "## Step 2: Filter out to just Biden/Harris 2023-2024 contributions"
   ]
  },
  {
   "cell_type": "markdown",
   "metadata": {},
   "source": [
    "ActBlue filings contain a lot of data than just Biden/Harris, so we'll need to filter down to just the donations we care about. \n",
    "We can still keep the large `actblue-202301-202407.db` as-is, we'll create a new SQLite database called `biden-harris-202301-202407.db` \n",
    "and copy over the data we need. "
   ]
  },
  {
   "cell_type": "code",
   "execution_count": 2,
   "metadata": {},
   "outputs": [
    {
     "data": {
      "text/html": [
       "<span style=\"None\">Connecting to &#x27;sqlite:///biden-harris-202301-202407.db&#x27;</span>"
      ],
      "text/plain": [
       "Connecting to 'sqlite:///biden-harris-202301-202407.db'"
      ]
     },
     "metadata": {},
     "output_type": "display_data"
    }
   ],
   "source": [
    "%load_ext sql\n",
    "%sql sqlite:///biden-harris-202301-202407.db"
   ]
  },
  {
   "cell_type": "markdown",
   "metadata": {},
   "source": [
    "Let's copy over the data from the the big ActBlue database to this one. \n",
    "Along the way, we will filter for only Biden/Harris contributions, and add\n",
    "a few extra columns to help with analysis later on. "
   ]
  },
  {
   "cell_type": "code",
   "execution_count": 3,
   "metadata": {
    "vscode": {
     "languageId": "sql"
    }
   },
   "outputs": [
    {
     "data": {
      "text/html": [
       "<span style=\"None\">Running query in &#x27;sqlite:///biden-harris-202301-202407.db&#x27;</span>"
      ],
      "text/plain": [
       "Running query in 'sqlite:///biden-harris-202301-202407.db'"
      ]
     },
     "metadata": {},
     "output_type": "display_data"
    },
    {
     "name": "stderr",
     "output_type": "stream",
     "text": [
      "RuntimeError: (sqlite3.OperationalError) table biden_harris_itemizations already exists\n",
      "[SQL: create table biden_harris_itemizations as\n",
      "  select\n",
      "\n",
      "    substr(contributor_zip_code, 1, 5) as contributor_zip_code5,\n",
      "\n",
      "\n",
      "    lower(\n",
      "      format(\n",
      "        '%s%s%s',\n",
      "        trim(contributor_first_name),\n",
      "        trim(contributor_last_name),\n",
      "        substr(contributor_zip_code, 1, 5)\n",
      "      )\n",
      "    ) as contributor_id,\n",
      "\n",
      "\n",
      "    *\n",
      "  from source.libfec_schedule_a\n",
      "  where\n",
      "\n",
      "    (\n",
      "\n",
      "      memo_text_description like '%C00703975%'\n",
      "\n",
      "      or memo_text_description like '%C00744946%'\n",
      "\n",
      "      or memo_text_description like '%C00849281%'\n",
      "\n",
      "      or memo_text_description like '%C00838912%'\n",
      "  );]\n",
      "(Background on this error at: https://sqlalche.me/e/20/e3q8)\n",
      "If you need help solving this issue, send us a message: https://ploomber.io/community\n"
     ]
    }
   ],
   "source": [
    "%%sql\n",
    "attach database 'actblue-202301-202407.db' as source;\n",
    "\n",
    "create table biden_harris_itemizations as\n",
    "  select\n",
    "    -- The original contributor_zip_code column can sometimes contain +4 digits,\n",
    "    -- and for our purposes, we only care about the first 5 digits (ex 90210)\n",
    "    substr(contributor_zip_code, 1, 5) as contributor_zip_code5,\n",
    "\n",
    "    -- We don't have any unique identifiers for individual contributors. The LA Times\n",
    "    -- analysis estimated one by using a \"unique combination of first name, last name,\n",
    "    --  and ZIP Code\".\n",
    "    lower(\n",
    "      format(\n",
    "        '%s%s%s',\n",
    "        trim(contributor_first_name),\n",
    "        trim(contributor_last_name),\n",
    "        substr(contributor_zip_code, 1, 5)\n",
    "      )\n",
    "    ) as contributor_id,\n",
    "\n",
    "    -- copy over the rest of the columns in libfec_schedule_a\n",
    "    *\n",
    "  from source.libfec_schedule_a\n",
    "  where\n",
    "    -- We only care about donations made to Biden/Harris campaigns, and not\n",
    "    -- all ActBlue donations. We can filter them out by looking for Harris\n",
    "    -- committee IDs as they appear in the \"memo_text_description\" column,\n",
    "    -- which contains values like 'Earmarked for BIDEN FOR PRESIDENT (C00703975)'.\n",
    "    -- These 4 committees were specifically mentioned in the LA Times article nerdbox.\n",
    "    (\n",
    "      -- \"HARRIS FOR PRESIDENT\"\n",
    "      memo_text_description like '%C00703975%'\n",
    "      -- \"HARRIS VICTORY FUND\"\n",
    "      or memo_text_description like '%C00744946%'\n",
    "      -- \"HARRIS BALDWIN VICTORY FUND\"\n",
    "      or memo_text_description like '%C00849281%'\n",
    "      -- \"HARRIS ACTION FUND\"\n",
    "      or memo_text_description like '%C00838912%'\n",
    "  );\n"
   ]
  },
  {
   "cell_type": "markdown",
   "metadata": {},
   "source": [
    "Now the `biden_harris_itemizations` table contains all contributions to Biden/Harris campaigns since 2023! \n",
    "Here's a sample of what that table looks like, with the additional `contributor_zip_code5` and `contributor_id` \n",
    "columns we added. "
   ]
  },
  {
   "cell_type": "code",
   "execution_count": 4,
   "metadata": {
    "vscode": {
     "languageId": "sql"
    }
   },
   "outputs": [
    {
     "data": {
      "text/html": [
       "<span style=\"None\">Running query in &#x27;sqlite:///biden-harris-202301-202407.db&#x27;</span>"
      ],
      "text/plain": [
       "Running query in 'sqlite:///biden-harris-202301-202407.db'"
      ]
     },
     "metadata": {},
     "output_type": "display_data"
    },
    {
     "data": {
      "text/html": [
       "<table>\n",
       "    <thead>\n",
       "        <tr>\n",
       "            <th>contributor_zip_code5</th>\n",
       "            <th>contributor_id</th>\n",
       "            <th>filing_id</th>\n",
       "            <th>form_type</th>\n",
       "            <th>filer_committee_id_number</th>\n",
       "            <th>transaction_id</th>\n",
       "            <th>back_reference_tran_id_number</th>\n",
       "            <th>back_reference_sched_name</th>\n",
       "            <th>entity_type</th>\n",
       "            <th>contributor_organization_name</th>\n",
       "            <th>contributor_last_name</th>\n",
       "            <th>contributor_first_name</th>\n",
       "            <th>contributor_middle_name</th>\n",
       "            <th>contributor_prefix</th>\n",
       "            <th>contributor_suffix</th>\n",
       "            <th>contributor_street_1</th>\n",
       "            <th>contributor_street_2</th>\n",
       "            <th>contributor_city</th>\n",
       "            <th>contributor_state</th>\n",
       "            <th>contributor_zip_code</th>\n",
       "            <th>election_code</th>\n",
       "            <th>election_other_description</th>\n",
       "            <th>contribution_date</th>\n",
       "            <th>contribution_amount</th>\n",
       "            <th>contribution_aggregate</th>\n",
       "            <th>contribution_purpose_descrip</th>\n",
       "            <th>contributor_employer</th>\n",
       "            <th>contributor_occupation</th>\n",
       "            <th>donor_committee_fec_id</th>\n",
       "            <th>donor_committee_name</th>\n",
       "            <th>donor_candidate_fec_id</th>\n",
       "            <th>donor_candidate_last_name</th>\n",
       "            <th>donor_candidate_first_name</th>\n",
       "            <th>donor_candidate_middle_name</th>\n",
       "            <th>donor_candidate_prefix</th>\n",
       "            <th>donor_candidate_suffix</th>\n",
       "            <th>donor_candidate_office</th>\n",
       "            <th>donor_candidate_state</th>\n",
       "            <th>donor_candidate_district</th>\n",
       "            <th>conduit_name</th>\n",
       "            <th>conduit_street1</th>\n",
       "            <th>conduit_street2</th>\n",
       "            <th>conduit_city</th>\n",
       "            <th>conduit_state</th>\n",
       "            <th>conduit_zip_code</th>\n",
       "            <th>memo_code</th>\n",
       "            <th>memo_text_description</th>\n",
       "            <th>reference_code</th>\n",
       "        </tr>\n",
       "    </thead>\n",
       "    <tbody>\n",
       "        <tr>\n",
       "            <td>30127</td>\n",
       "            <td>da babya30127</td>\n",
       "            <td>1720554</td>\n",
       "            <td>SA11AI</td>\n",
       "            <td>C00401224</td>\n",
       "            <td>SA11AI_535329455</td>\n",
       "            <td></td>\n",
       "            <td></td>\n",
       "            <td>IND</td>\n",
       "            <td></td>\n",
       "            <td>A</td>\n",
       "            <td>DA BABY</td>\n",
       "            <td></td>\n",
       "            <td></td>\n",
       "            <td></td>\n",
       "            <td>122 DEERHUNTER LN</td>\n",
       "            <td></td>\n",
       "            <td>POWDER SPRINGS</td>\n",
       "            <td>GA</td>\n",
       "            <td>30127</td>\n",
       "            <td></td>\n",
       "            <td></td>\n",
       "            <td>2023-06-30</td>\n",
       "            <td>1.0</td>\n",
       "            <td>1.0</td>\n",
       "            <td>Earmark</td>\n",
       "            <td>NOT EMPLOYED</td>\n",
       "            <td>NOT EMPLOYED</td>\n",
       "            <td></td>\n",
       "            <td></td>\n",
       "            <td></td>\n",
       "            <td></td>\n",
       "            <td></td>\n",
       "            <td></td>\n",
       "            <td></td>\n",
       "            <td></td>\n",
       "            <td></td>\n",
       "            <td></td>\n",
       "            <td></td>\n",
       "            <td></td>\n",
       "            <td></td>\n",
       "            <td></td>\n",
       "            <td></td>\n",
       "            <td></td>\n",
       "            <td></td>\n",
       "            <td></td>\n",
       "            <td>Earmarked for BIDEN FOR PRESIDENT (C00703975)</td>\n",
       "            <td></td>\n",
       "        </tr>\n",
       "        <tr>\n",
       "            <td>92011</td>\n",
       "            <td>dianaa92011</td>\n",
       "            <td>1720554</td>\n",
       "            <td>SA11AI</td>\n",
       "            <td>C00401224</td>\n",
       "            <td>SA11AI_534850611</td>\n",
       "            <td></td>\n",
       "            <td></td>\n",
       "            <td>IND</td>\n",
       "            <td></td>\n",
       "            <td>A</td>\n",
       "            <td>DIANA</td>\n",
       "            <td></td>\n",
       "            <td></td>\n",
       "            <td></td>\n",
       "            <td>6808 ZINNIA CT</td>\n",
       "            <td></td>\n",
       "            <td>CARLSBAD</td>\n",
       "            <td>CA</td>\n",
       "            <td>92011</td>\n",
       "            <td></td>\n",
       "            <td></td>\n",
       "            <td>2023-06-28</td>\n",
       "            <td>10.0</td>\n",
       "            <td>10.0</td>\n",
       "            <td>Earmark</td>\n",
       "            <td>ANTHEM</td>\n",
       "            <td>PROJECT DIRECTOR</td>\n",
       "            <td></td>\n",
       "            <td></td>\n",
       "            <td></td>\n",
       "            <td></td>\n",
       "            <td></td>\n",
       "            <td></td>\n",
       "            <td></td>\n",
       "            <td></td>\n",
       "            <td></td>\n",
       "            <td></td>\n",
       "            <td></td>\n",
       "            <td></td>\n",
       "            <td></td>\n",
       "            <td></td>\n",
       "            <td></td>\n",
       "            <td></td>\n",
       "            <td></td>\n",
       "            <td></td>\n",
       "            <td>Earmarked for BIDEN FOR PRESIDENT (C00703975)</td>\n",
       "            <td></td>\n",
       "        </tr>\n",
       "        <tr>\n",
       "            <td>95008</td>\n",
       "            <td>johna95008</td>\n",
       "            <td>1720554</td>\n",
       "            <td>SA11AI</td>\n",
       "            <td>C00401224</td>\n",
       "            <td>SA11AI_529522643</td>\n",
       "            <td></td>\n",
       "            <td></td>\n",
       "            <td>IND</td>\n",
       "            <td></td>\n",
       "            <td>A</td>\n",
       "            <td>JOHN</td>\n",
       "            <td></td>\n",
       "            <td></td>\n",
       "            <td></td>\n",
       "            <td>1636 ADRIEN DR</td>\n",
       "            <td></td>\n",
       "            <td>CAMPBELL</td>\n",
       "            <td>CA</td>\n",
       "            <td>95008</td>\n",
       "            <td></td>\n",
       "            <td></td>\n",
       "            <td>2023-05-19</td>\n",
       "            <td>10.0</td>\n",
       "            <td>10.0</td>\n",
       "            <td>Earmark</td>\n",
       "            <td>NOT EMPLOYED</td>\n",
       "            <td>NOT EMPLOYED</td>\n",
       "            <td></td>\n",
       "            <td></td>\n",
       "            <td></td>\n",
       "            <td></td>\n",
       "            <td></td>\n",
       "            <td></td>\n",
       "            <td></td>\n",
       "            <td></td>\n",
       "            <td></td>\n",
       "            <td></td>\n",
       "            <td></td>\n",
       "            <td></td>\n",
       "            <td></td>\n",
       "            <td></td>\n",
       "            <td></td>\n",
       "            <td></td>\n",
       "            <td></td>\n",
       "            <td></td>\n",
       "            <td>Earmarked for BIDEN FOR PRESIDENT (C00703975)</td>\n",
       "            <td></td>\n",
       "        </tr>\n",
       "        <tr>\n",
       "            <td>20016</td>\n",
       "            <td>ka20016</td>\n",
       "            <td>1720554</td>\n",
       "            <td>SA11AI</td>\n",
       "            <td>C00401224</td>\n",
       "            <td>SA11AI_526451881</td>\n",
       "            <td></td>\n",
       "            <td></td>\n",
       "            <td>IND</td>\n",
       "            <td></td>\n",
       "            <td>A</td>\n",
       "            <td>K</td>\n",
       "            <td></td>\n",
       "            <td></td>\n",
       "            <td></td>\n",
       "            <td>3713 YUMA ST NW</td>\n",
       "            <td></td>\n",
       "            <td>WASHINGTON</td>\n",
       "            <td>DC</td>\n",
       "            <td>20016</td>\n",
       "            <td></td>\n",
       "            <td></td>\n",
       "            <td>2023-04-25</td>\n",
       "            <td>5.0</td>\n",
       "            <td>5.0</td>\n",
       "            <td>Earmark</td>\n",
       "            <td>NOT EMPLOYED</td>\n",
       "            <td>NOT EMPLOYED</td>\n",
       "            <td></td>\n",
       "            <td></td>\n",
       "            <td></td>\n",
       "            <td></td>\n",
       "            <td></td>\n",
       "            <td></td>\n",
       "            <td></td>\n",
       "            <td></td>\n",
       "            <td></td>\n",
       "            <td></td>\n",
       "            <td></td>\n",
       "            <td></td>\n",
       "            <td></td>\n",
       "            <td></td>\n",
       "            <td></td>\n",
       "            <td></td>\n",
       "            <td></td>\n",
       "            <td></td>\n",
       "            <td>Earmarked for BIDEN VICTORY FUND (C00744946)</td>\n",
       "            <td></td>\n",
       "        </tr>\n",
       "        <tr>\n",
       "            <td>06109</td>\n",
       "            <td>luisa06109</td>\n",
       "            <td>1720554</td>\n",
       "            <td>SA11AI</td>\n",
       "            <td>C00401224</td>\n",
       "            <td>SA11AI_531348463</td>\n",
       "            <td></td>\n",
       "            <td></td>\n",
       "            <td>IND</td>\n",
       "            <td></td>\n",
       "            <td>A</td>\n",
       "            <td>LUIS</td>\n",
       "            <td></td>\n",
       "            <td></td>\n",
       "            <td></td>\n",
       "            <td>106 STILLWOLD DRIVE</td>\n",
       "            <td></td>\n",
       "            <td>WETHERSFIELD</td>\n",
       "            <td>CT</td>\n",
       "            <td>06109</td>\n",
       "            <td></td>\n",
       "            <td></td>\n",
       "            <td>2023-06-02</td>\n",
       "            <td>25.0</td>\n",
       "            <td>25.0</td>\n",
       "            <td>Earmark</td>\n",
       "            <td>NOT EMPLOYED</td>\n",
       "            <td>NOT EMPLOYED</td>\n",
       "            <td></td>\n",
       "            <td></td>\n",
       "            <td></td>\n",
       "            <td></td>\n",
       "            <td></td>\n",
       "            <td></td>\n",
       "            <td></td>\n",
       "            <td></td>\n",
       "            <td></td>\n",
       "            <td></td>\n",
       "            <td></td>\n",
       "            <td></td>\n",
       "            <td></td>\n",
       "            <td></td>\n",
       "            <td></td>\n",
       "            <td></td>\n",
       "            <td></td>\n",
       "            <td></td>\n",
       "            <td>Earmarked for BIDEN FOR PRESIDENT (C00703975)</td>\n",
       "            <td></td>\n",
       "        </tr>\n",
       "        <tr>\n",
       "            <td>32615</td>\n",
       "            <td>marya32615</td>\n",
       "            <td>1720554</td>\n",
       "            <td>SA11AI</td>\n",
       "            <td>C00401224</td>\n",
       "            <td>SA11AI_529907797</td>\n",
       "            <td></td>\n",
       "            <td></td>\n",
       "            <td>IND</td>\n",
       "            <td></td>\n",
       "            <td>A</td>\n",
       "            <td>MARY</td>\n",
       "            <td></td>\n",
       "            <td></td>\n",
       "            <td></td>\n",
       "            <td>15817 NW 173 RD STREET</td>\n",
       "            <td></td>\n",
       "            <td>ALACHUA</td>\n",
       "            <td>FL</td>\n",
       "            <td>32615</td>\n",
       "            <td></td>\n",
       "            <td></td>\n",
       "            <td>2023-05-23</td>\n",
       "            <td>10.0</td>\n",
       "            <td>10.0</td>\n",
       "            <td>Earmark</td>\n",
       "            <td>NOT EMPLOYED</td>\n",
       "            <td>NOT EMPLOYED</td>\n",
       "            <td></td>\n",
       "            <td></td>\n",
       "            <td></td>\n",
       "            <td></td>\n",
       "            <td></td>\n",
       "            <td></td>\n",
       "            <td></td>\n",
       "            <td></td>\n",
       "            <td></td>\n",
       "            <td></td>\n",
       "            <td></td>\n",
       "            <td></td>\n",
       "            <td></td>\n",
       "            <td></td>\n",
       "            <td></td>\n",
       "            <td></td>\n",
       "            <td></td>\n",
       "            <td></td>\n",
       "            <td>Earmarked for BIDEN VICTORY FUND (C00744946)</td>\n",
       "            <td></td>\n",
       "        </tr>\n",
       "        <tr>\n",
       "            <td>10451</td>\n",
       "            <td>michaela10451</td>\n",
       "            <td>1720554</td>\n",
       "            <td>SA11AI</td>\n",
       "            <td>C00401224</td>\n",
       "            <td>SA11AI_530180169</td>\n",
       "            <td></td>\n",
       "            <td></td>\n",
       "            <td>IND</td>\n",
       "            <td></td>\n",
       "            <td>A</td>\n",
       "            <td>MICHAEL</td>\n",
       "            <td></td>\n",
       "            <td></td>\n",
       "            <td></td>\n",
       "            <td>940 GRAND CONCOURSE</td>\n",
       "            <td></td>\n",
       "            <td>NEW YORK</td>\n",
       "            <td>NY</td>\n",
       "            <td>10451</td>\n",
       "            <td></td>\n",
       "            <td></td>\n",
       "            <td>2023-05-25</td>\n",
       "            <td>10.0</td>\n",
       "            <td>10.0</td>\n",
       "            <td>Earmark</td>\n",
       "            <td>EONE</td>\n",
       "            <td>PRODUCER</td>\n",
       "            <td></td>\n",
       "            <td></td>\n",
       "            <td></td>\n",
       "            <td></td>\n",
       "            <td></td>\n",
       "            <td></td>\n",
       "            <td></td>\n",
       "            <td></td>\n",
       "            <td></td>\n",
       "            <td></td>\n",
       "            <td></td>\n",
       "            <td></td>\n",
       "            <td></td>\n",
       "            <td></td>\n",
       "            <td></td>\n",
       "            <td></td>\n",
       "            <td></td>\n",
       "            <td></td>\n",
       "            <td>Earmarked for BIDEN FOR PRESIDENT (C00703975)</td>\n",
       "            <td></td>\n",
       "        </tr>\n",
       "        <tr>\n",
       "            <td>50310</td>\n",
       "            <td>garya adams50310</td>\n",
       "            <td>1720554</td>\n",
       "            <td>SA11AI</td>\n",
       "            <td>C00401224</td>\n",
       "            <td>SA11AI_527825689</td>\n",
       "            <td></td>\n",
       "            <td></td>\n",
       "            <td>IND</td>\n",
       "            <td></td>\n",
       "            <td>A ADAMS</td>\n",
       "            <td>GARY</td>\n",
       "            <td></td>\n",
       "            <td></td>\n",
       "            <td></td>\n",
       "            <td>3411 48TH STREET</td>\n",
       "            <td></td>\n",
       "            <td>DES MOINES</td>\n",
       "            <td>IA</td>\n",
       "            <td>503103219</td>\n",
       "            <td></td>\n",
       "            <td></td>\n",
       "            <td>2023-05-04</td>\n",
       "            <td>25.0</td>\n",
       "            <td>25.0</td>\n",
       "            <td>Earmark</td>\n",
       "            <td>ISL EDUCATION LENDING</td>\n",
       "            <td>SCHOOL SERVICES LIAISON</td>\n",
       "            <td></td>\n",
       "            <td></td>\n",
       "            <td></td>\n",
       "            <td></td>\n",
       "            <td></td>\n",
       "            <td></td>\n",
       "            <td></td>\n",
       "            <td></td>\n",
       "            <td></td>\n",
       "            <td></td>\n",
       "            <td></td>\n",
       "            <td></td>\n",
       "            <td></td>\n",
       "            <td></td>\n",
       "            <td></td>\n",
       "            <td></td>\n",
       "            <td></td>\n",
       "            <td></td>\n",
       "            <td>Earmarked for BIDEN FOR PRESIDENT (C00703975)</td>\n",
       "            <td></td>\n",
       "        </tr>\n",
       "        <tr>\n",
       "            <td>98116</td>\n",
       "            <td>juliea alley98116</td>\n",
       "            <td>1720554</td>\n",
       "            <td>SA11AI</td>\n",
       "            <td>C00401224</td>\n",
       "            <td>SA11AI_531049324</td>\n",
       "            <td></td>\n",
       "            <td></td>\n",
       "            <td>IND</td>\n",
       "            <td></td>\n",
       "            <td>A ALLEY</td>\n",
       "            <td>JULIE</td>\n",
       "            <td></td>\n",
       "            <td></td>\n",
       "            <td></td>\n",
       "            <td>5208 SW GENESEE ST</td>\n",
       "            <td></td>\n",
       "            <td>SEATTLE, WA</td>\n",
       "            <td>WA</td>\n",
       "            <td>98116</td>\n",
       "            <td></td>\n",
       "            <td></td>\n",
       "            <td>2023-05-31</td>\n",
       "            <td>25.0</td>\n",
       "            <td>25.0</td>\n",
       "            <td>Earmark</td>\n",
       "            <td>LIFELONG</td>\n",
       "            <td>IT MANAGER</td>\n",
       "            <td></td>\n",
       "            <td></td>\n",
       "            <td></td>\n",
       "            <td></td>\n",
       "            <td></td>\n",
       "            <td></td>\n",
       "            <td></td>\n",
       "            <td></td>\n",
       "            <td></td>\n",
       "            <td></td>\n",
       "            <td></td>\n",
       "            <td></td>\n",
       "            <td></td>\n",
       "            <td></td>\n",
       "            <td></td>\n",
       "            <td></td>\n",
       "            <td></td>\n",
       "            <td></td>\n",
       "            <td>Earmarked for BIDEN FOR PRESIDENT (C00703975)</td>\n",
       "            <td></td>\n",
       "        </tr>\n",
       "        <tr>\n",
       "            <td>21668</td>\n",
       "            <td>sharona andrews21668</td>\n",
       "            <td>1720554</td>\n",
       "            <td>SA11AI</td>\n",
       "            <td>C00401224</td>\n",
       "            <td>SA11AI_526440924</td>\n",
       "            <td></td>\n",
       "            <td></td>\n",
       "            <td>IND</td>\n",
       "            <td></td>\n",
       "            <td>A ANDREWS</td>\n",
       "            <td>SHARON</td>\n",
       "            <td></td>\n",
       "            <td></td>\n",
       "            <td></td>\n",
       "            <td>1304 FOXX CT</td>\n",
       "            <td></td>\n",
       "            <td>SUDLERSVILLE</td>\n",
       "            <td>MD</td>\n",
       "            <td>21668</td>\n",
       "            <td></td>\n",
       "            <td></td>\n",
       "            <td>2023-04-25</td>\n",
       "            <td>10.0</td>\n",
       "            <td>20.0</td>\n",
       "            <td>Earmark</td>\n",
       "            <td>NOT EMPLOYED</td>\n",
       "            <td>NOT EMPLOYED</td>\n",
       "            <td></td>\n",
       "            <td></td>\n",
       "            <td></td>\n",
       "            <td></td>\n",
       "            <td></td>\n",
       "            <td></td>\n",
       "            <td></td>\n",
       "            <td></td>\n",
       "            <td></td>\n",
       "            <td></td>\n",
       "            <td></td>\n",
       "            <td></td>\n",
       "            <td></td>\n",
       "            <td></td>\n",
       "            <td></td>\n",
       "            <td></td>\n",
       "            <td></td>\n",
       "            <td></td>\n",
       "            <td>Earmarked for BIDEN FOR PRESIDENT (C00703975)</td>\n",
       "            <td></td>\n",
       "        </tr>\n",
       "    </tbody>\n",
       "</table>\n",
       "<span style=\"font-style:italic;text-align:center;\">Truncated to <a href=\"https://jupysql.ploomber.io/en/latest/api/configuration.html#displaylimit\">displaylimit</a> of 10.</span>"
      ],
      "text/plain": [
       "+-----------------------+----------------------+-----------+-----------+---------------------------+------------------+-------------------------------+---------------------------+-------------+-------------------------------+-----------------------+------------------------+-------------------------+--------------------+--------------------+------------------------+----------------------+------------------+-------------------+----------------------+---------------+----------------------------+-------------------+---------------------+------------------------+------------------------------+-----------------------+-------------------------+------------------------+----------------------+------------------------+---------------------------+----------------------------+-----------------------------+------------------------+------------------------+------------------------+-----------------------+--------------------------+--------------+-----------------+-----------------+--------------+---------------+------------------+-----------+-----------------------------------------------+----------------+\n",
       "| contributor_zip_code5 |    contributor_id    | filing_id | form_type | filer_committee_id_number |  transaction_id  | back_reference_tran_id_number | back_reference_sched_name | entity_type | contributor_organization_name | contributor_last_name | contributor_first_name | contributor_middle_name | contributor_prefix | contributor_suffix |  contributor_street_1  | contributor_street_2 | contributor_city | contributor_state | contributor_zip_code | election_code | election_other_description | contribution_date | contribution_amount | contribution_aggregate | contribution_purpose_descrip |  contributor_employer |  contributor_occupation | donor_committee_fec_id | donor_committee_name | donor_candidate_fec_id | donor_candidate_last_name | donor_candidate_first_name | donor_candidate_middle_name | donor_candidate_prefix | donor_candidate_suffix | donor_candidate_office | donor_candidate_state | donor_candidate_district | conduit_name | conduit_street1 | conduit_street2 | conduit_city | conduit_state | conduit_zip_code | memo_code |             memo_text_description             | reference_code |\n",
       "+-----------------------+----------------------+-----------+-----------+---------------------------+------------------+-------------------------------+---------------------------+-------------+-------------------------------+-----------------------+------------------------+-------------------------+--------------------+--------------------+------------------------+----------------------+------------------+-------------------+----------------------+---------------+----------------------------+-------------------+---------------------+------------------------+------------------------------+-----------------------+-------------------------+------------------------+----------------------+------------------------+---------------------------+----------------------------+-----------------------------+------------------------+------------------------+------------------------+-----------------------+--------------------------+--------------+-----------------+-----------------+--------------+---------------+------------------+-----------+-----------------------------------------------+----------------+\n",
       "|         30127         |    da babya30127     |  1720554  |   SA11AI  |         C00401224         | SA11AI_535329455 |                               |                           |     IND     |                               |           A           |        DA BABY         |                         |                    |                    |   122 DEERHUNTER LN    |                      |  POWDER SPRINGS  |         GA        |        30127         |               |                            |     2023-06-30    |         1.0         |          1.0           |           Earmark            |      NOT EMPLOYED     |       NOT EMPLOYED      |                        |                      |                        |                           |                            |                             |                        |                        |                        |                       |                          |              |                 |                 |              |               |                  |           | Earmarked for BIDEN FOR PRESIDENT (C00703975) |                |\n",
       "|         92011         |     dianaa92011      |  1720554  |   SA11AI  |         C00401224         | SA11AI_534850611 |                               |                           |     IND     |                               |           A           |         DIANA          |                         |                    |                    |     6808 ZINNIA CT     |                      |     CARLSBAD     |         CA        |        92011         |               |                            |     2023-06-28    |         10.0        |          10.0          |           Earmark            |         ANTHEM        |     PROJECT DIRECTOR    |                        |                      |                        |                           |                            |                             |                        |                        |                        |                       |                          |              |                 |                 |              |               |                  |           | Earmarked for BIDEN FOR PRESIDENT (C00703975) |                |\n",
       "|         95008         |      johna95008      |  1720554  |   SA11AI  |         C00401224         | SA11AI_529522643 |                               |                           |     IND     |                               |           A           |          JOHN          |                         |                    |                    |     1636 ADRIEN DR     |                      |     CAMPBELL     |         CA        |        95008         |               |                            |     2023-05-19    |         10.0        |          10.0          |           Earmark            |      NOT EMPLOYED     |       NOT EMPLOYED      |                        |                      |                        |                           |                            |                             |                        |                        |                        |                       |                          |              |                 |                 |              |               |                  |           | Earmarked for BIDEN FOR PRESIDENT (C00703975) |                |\n",
       "|         20016         |       ka20016        |  1720554  |   SA11AI  |         C00401224         | SA11AI_526451881 |                               |                           |     IND     |                               |           A           |           K            |                         |                    |                    |    3713 YUMA ST NW     |                      |    WASHINGTON    |         DC        |        20016         |               |                            |     2023-04-25    |         5.0         |          5.0           |           Earmark            |      NOT EMPLOYED     |       NOT EMPLOYED      |                        |                      |                        |                           |                            |                             |                        |                        |                        |                       |                          |              |                 |                 |              |               |                  |           |  Earmarked for BIDEN VICTORY FUND (C00744946) |                |\n",
       "|         06109         |      luisa06109      |  1720554  |   SA11AI  |         C00401224         | SA11AI_531348463 |                               |                           |     IND     |                               |           A           |          LUIS          |                         |                    |                    |  106 STILLWOLD DRIVE   |                      |   WETHERSFIELD   |         CT        |        06109         |               |                            |     2023-06-02    |         25.0        |          25.0          |           Earmark            |      NOT EMPLOYED     |       NOT EMPLOYED      |                        |                      |                        |                           |                            |                             |                        |                        |                        |                       |                          |              |                 |                 |              |               |                  |           | Earmarked for BIDEN FOR PRESIDENT (C00703975) |                |\n",
       "|         32615         |      marya32615      |  1720554  |   SA11AI  |         C00401224         | SA11AI_529907797 |                               |                           |     IND     |                               |           A           |          MARY          |                         |                    |                    | 15817 NW 173 RD STREET |                      |     ALACHUA      |         FL        |        32615         |               |                            |     2023-05-23    |         10.0        |          10.0          |           Earmark            |      NOT EMPLOYED     |       NOT EMPLOYED      |                        |                      |                        |                           |                            |                             |                        |                        |                        |                       |                          |              |                 |                 |              |               |                  |           |  Earmarked for BIDEN VICTORY FUND (C00744946) |                |\n",
       "|         10451         |    michaela10451     |  1720554  |   SA11AI  |         C00401224         | SA11AI_530180169 |                               |                           |     IND     |                               |           A           |        MICHAEL         |                         |                    |                    |  940 GRAND CONCOURSE   |                      |     NEW YORK     |         NY        |        10451         |               |                            |     2023-05-25    |         10.0        |          10.0          |           Earmark            |          EONE         |         PRODUCER        |                        |                      |                        |                           |                            |                             |                        |                        |                        |                       |                          |              |                 |                 |              |               |                  |           | Earmarked for BIDEN FOR PRESIDENT (C00703975) |                |\n",
       "|         50310         |   garya adams50310   |  1720554  |   SA11AI  |         C00401224         | SA11AI_527825689 |                               |                           |     IND     |                               |        A ADAMS        |          GARY          |                         |                    |                    |    3411 48TH STREET    |                      |    DES MOINES    |         IA        |      503103219       |               |                            |     2023-05-04    |         25.0        |          25.0          |           Earmark            | ISL EDUCATION LENDING | SCHOOL SERVICES LIAISON |                        |                      |                        |                           |                            |                             |                        |                        |                        |                       |                          |              |                 |                 |              |               |                  |           | Earmarked for BIDEN FOR PRESIDENT (C00703975) |                |\n",
       "|         98116         |  juliea alley98116   |  1720554  |   SA11AI  |         C00401224         | SA11AI_531049324 |                               |                           |     IND     |                               |        A ALLEY        |         JULIE          |                         |                    |                    |   5208 SW GENESEE ST   |                      |   SEATTLE, WA    |         WA        |        98116         |               |                            |     2023-05-31    |         25.0        |          25.0          |           Earmark            |        LIFELONG       |        IT MANAGER       |                        |                      |                        |                           |                            |                             |                        |                        |                        |                       |                          |              |                 |                 |              |               |                  |           | Earmarked for BIDEN FOR PRESIDENT (C00703975) |                |\n",
       "|         21668         | sharona andrews21668 |  1720554  |   SA11AI  |         C00401224         | SA11AI_526440924 |                               |                           |     IND     |                               |       A ANDREWS       |         SHARON         |                         |                    |                    |      1304 FOXX CT      |                      |   SUDLERSVILLE   |         MD        |        21668         |               |                            |     2023-04-25    |         10.0        |          20.0          |           Earmark            |      NOT EMPLOYED     |       NOT EMPLOYED      |                        |                      |                        |                           |                            |                             |                        |                        |                        |                       |                          |              |                 |                 |              |               |                  |           | Earmarked for BIDEN FOR PRESIDENT (C00703975) |                |\n",
       "+-----------------------+----------------------+-----------+-----------+---------------------------+------------------+-------------------------------+---------------------------+-------------+-------------------------------+-----------------------+------------------------+-------------------------+--------------------+--------------------+------------------------+----------------------+------------------+-------------------+----------------------+---------------+----------------------------+-------------------+---------------------+------------------------+------------------------------+-----------------------+-------------------------+------------------------+----------------------+------------------------+---------------------------+----------------------------+-----------------------------+------------------------+------------------------+------------------------+-----------------------+--------------------------+--------------+-----------------+-----------------+--------------+---------------+------------------+-----------+-----------------------------------------------+----------------+\n",
       "Truncated to displaylimit of 10."
      ]
     },
     "execution_count": 4,
     "metadata": {},
     "output_type": "execute_result"
    }
   ],
   "source": [
    "%%sql\n",
    "select * from biden_harris_itemizations limit 10;"
   ]
  },
  {
   "cell_type": "markdown",
   "metadata": {},
   "source": [
    "## Step 3: Compute contributor stats\n",
    "\n",
    "The above table is 1 row per contribution, meaning the same individual could appear multiple times if they contributed multiple times. \n",
    "In this analysis, we care about whether or not a contributor gave to both Biden or Harris, depending on when their contribution took place\n",
    "(before or after `2024-07-21`, when Biden dropped out).\n",
    "\n",
    "To aid in this, we will create a temporary table called `biden_harris_contributor_stats` that pre-computes these stats,\n",
    "with 1 row per unique contributor. "
   ]
  },
  {
   "cell_type": "code",
   "execution_count": 5,
   "metadata": {
    "vscode": {
     "languageId": "sql"
    }
   },
   "outputs": [
    {
     "data": {
      "text/html": [
       "<span style=\"None\">Running query in &#x27;sqlite:///biden-harris-202301-202407.db&#x27;</span>"
      ],
      "text/plain": [
       "Running query in 'sqlite:///biden-harris-202301-202407.db'"
      ]
     },
     "metadata": {},
     "output_type": "display_data"
    },
    {
     "data": {
      "text/html": [
       "<table>\n",
       "    <thead>\n",
       "        <tr>\n",
       "        </tr>\n",
       "    </thead>\n",
       "    <tbody>\n",
       "    </tbody>\n",
       "</table>"
      ],
      "text/plain": [
       "++\n",
       "||\n",
       "++\n",
       "++"
      ]
     },
     "execution_count": 5,
     "metadata": {},
     "output_type": "execute_result"
    }
   ],
   "source": [
    "%%sql\n",
    "\n",
    "-- A temporary table that pre-compute per-contributor statistics, to aid in later analysis.\n",
    "-- 1 row per unique contributor, based on their first name/last name/zipcode.\n",
    "create temp table biden_harris_contributor_stats as\n",
    "  select\n",
    "    contributor_id,\n",
    "    contributor_state,\n",
    "    contributor_zip_code5,\n",
    "\n",
    "    -- if the contributor donated at least once to Biden\n",
    "    count(*) filter (where contribution_date < '2024-07-21') > 0 as biden_donor,\n",
    "\n",
    "    -- if the contributor donated at least once to Harris\n",
    "    count(*) filter (where contribution_date >= '2024-07-21') > 0 as harris_donor,\n",
    "\n",
    "    -- Total amount the contributor had given to Biden\n",
    "    sum(contribution_amount) filter (where contribution_date < '2024-07-21')  as biden_contribution_amount,\n",
    "\n",
    "    -- Total amount the contributor has given to Harris\n",
    "    sum(contribution_amount) filter (where contribution_date >= '2024-07-21') as harris_contribution_amount,\n",
    "\n",
    "    -- Total amount the contributor has given to either Biden or Harris\n",
    "    sum(contribution_amount) as total_contribution_amount\n",
    "\n",
    "  from biden_harris_itemizations\n",
    "  group by 1;"
   ]
  },
  {
   "cell_type": "code",
   "execution_count": 6,
   "metadata": {
    "vscode": {
     "languageId": "sql"
    }
   },
   "outputs": [
    {
     "data": {
      "text/html": [
       "<span style=\"None\">Running query in &#x27;sqlite:///biden-harris-202301-202407.db&#x27;</span>"
      ],
      "text/plain": [
       "Running query in 'sqlite:///biden-harris-202301-202407.db'"
      ]
     },
     "metadata": {},
     "output_type": "display_data"
    },
    {
     "data": {
      "text/html": [
       "<table>\n",
       "    <thead>\n",
       "        <tr>\n",
       "            <th>contributor_id</th>\n",
       "            <th>contributor_state</th>\n",
       "            <th>contributor_zip_code5</th>\n",
       "            <th>biden_donor</th>\n",
       "            <th>harris_donor</th>\n",
       "            <th>biden_contribution_amount</th>\n",
       "            <th>harris_contribution_amount</th>\n",
       "            <th>total_contribution_amount</th>\n",
       "        </tr>\n",
       "    </thead>\n",
       "    <tbody>\n",
       "        <tr>\n",
       "            <td>! mariaalfaro-brooks95492</td>\n",
       "            <td>CA</td>\n",
       "            <td>95492</td>\n",
       "            <td>0</td>\n",
       "            <td>1</td>\n",
       "            <td>None</td>\n",
       "            <td>500.0</td>\n",
       "            <td>500.0</td>\n",
       "        </tr>\n",
       "        <tr>\n",
       "            <td>!molliefair29412</td>\n",
       "            <td>SC</td>\n",
       "            <td>29412</td>\n",
       "            <td>1</td>\n",
       "            <td>0</td>\n",
       "            <td>100.0</td>\n",
       "            <td>None</td>\n",
       "            <td>100.0</td>\n",
       "        </tr>\n",
       "        <tr>\n",
       "            <td># briansheehan80020</td>\n",
       "            <td>CO</td>\n",
       "            <td>80020</td>\n",
       "            <td>1</td>\n",
       "            <td>1</td>\n",
       "            <td>25.0</td>\n",
       "            <td>75.0</td>\n",
       "            <td>100.0</td>\n",
       "        </tr>\n",
       "        <tr>\n",
       "            <td>#2 douglas shimmerbrown23456</td>\n",
       "            <td>VA</td>\n",
       "            <td>23456</td>\n",
       "            <td>1</td>\n",
       "            <td>0</td>\n",
       "            <td>125.0</td>\n",
       "            <td>None</td>\n",
       "            <td>125.0</td>\n",
       "        </tr>\n",
       "        <tr>\n",
       "            <td>#balcurtis92651</td>\n",
       "            <td>CA</td>\n",
       "            <td>92651</td>\n",
       "            <td>1</td>\n",
       "            <td>0</td>\n",
       "            <td>200.0</td>\n",
       "            <td>None</td>\n",
       "            <td>200.0</td>\n",
       "        </tr>\n",
       "        <tr>\n",
       "            <td>#balwright17815</td>\n",
       "            <td>PA</td>\n",
       "            <td>17815</td>\n",
       "            <td>0</td>\n",
       "            <td>1</td>\n",
       "            <td>None</td>\n",
       "            <td>35.0</td>\n",
       "            <td>35.0</td>\n",
       "        </tr>\n",
       "        <tr>\n",
       "            <td>#minhome91401</td>\n",
       "            <td>CA</td>\n",
       "            <td>91401</td>\n",
       "            <td>1</td>\n",
       "            <td>0</td>\n",
       "            <td>381.0</td>\n",
       "            <td>None</td>\n",
       "            <td>381.0</td>\n",
       "        </tr>\n",
       "        <tr>\n",
       "            <td>'ameliakolokihakaufisi94555</td>\n",
       "            <td>CA</td>\n",
       "            <td>94555</td>\n",
       "            <td>0</td>\n",
       "            <td>1</td>\n",
       "            <td>None</td>\n",
       "            <td>50.0</td>\n",
       "            <td>50.0</td>\n",
       "        </tr>\n",
       "        <tr>\n",
       "            <td>'bunmiojugbele11580</td>\n",
       "            <td>NY</td>\n",
       "            <td>11580</td>\n",
       "            <td>0</td>\n",
       "            <td>1</td>\n",
       "            <td>None</td>\n",
       "            <td>50.0</td>\n",
       "            <td>50.0</td>\n",
       "        </tr>\n",
       "        <tr>\n",
       "            <td>'clyde 'chuck'fallaw iii29036</td>\n",
       "            <td>SC</td>\n",
       "            <td>29036</td>\n",
       "            <td>1</td>\n",
       "            <td>0</td>\n",
       "            <td>270.0</td>\n",
       "            <td>None</td>\n",
       "            <td>270.0</td>\n",
       "        </tr>\n",
       "    </tbody>\n",
       "</table>\n",
       "<span style=\"font-style:italic;text-align:center;\">Truncated to <a href=\"https://jupysql.ploomber.io/en/latest/api/configuration.html#displaylimit\">displaylimit</a> of 10.</span>"
      ],
      "text/plain": [
       "+-------------------------------+-------------------+-----------------------+-------------+--------------+---------------------------+----------------------------+---------------------------+\n",
       "|         contributor_id        | contributor_state | contributor_zip_code5 | biden_donor | harris_donor | biden_contribution_amount | harris_contribution_amount | total_contribution_amount |\n",
       "+-------------------------------+-------------------+-----------------------+-------------+--------------+---------------------------+----------------------------+---------------------------+\n",
       "|   ! mariaalfaro-brooks95492   |         CA        |         95492         |      0      |      1       |            None           |           500.0            |           500.0           |\n",
       "|        !molliefair29412       |         SC        |         29412         |      1      |      0       |           100.0           |            None            |           100.0           |\n",
       "|      # briansheehan80020      |         CO        |         80020         |      1      |      1       |            25.0           |            75.0            |           100.0           |\n",
       "|  #2 douglas shimmerbrown23456 |         VA        |         23456         |      1      |      0       |           125.0           |            None            |           125.0           |\n",
       "|        #balcurtis92651        |         CA        |         92651         |      1      |      0       |           200.0           |            None            |           200.0           |\n",
       "|        #balwright17815        |         PA        |         17815         |      0      |      1       |            None           |            35.0            |            35.0           |\n",
       "|         #minhome91401         |         CA        |         91401         |      1      |      0       |           381.0           |            None            |           381.0           |\n",
       "|  'ameliakolokihakaufisi94555  |         CA        |         94555         |      0      |      1       |            None           |            50.0            |            50.0           |\n",
       "|      'bunmiojugbele11580      |         NY        |         11580         |      0      |      1       |            None           |            50.0            |            50.0           |\n",
       "| 'clyde 'chuck'fallaw iii29036 |         SC        |         29036         |      1      |      0       |           270.0           |            None            |           270.0           |\n",
       "+-------------------------------+-------------------+-----------------------+-------------+--------------+---------------------------+----------------------------+---------------------------+\n",
       "Truncated to displaylimit of 10."
      ]
     },
     "execution_count": 6,
     "metadata": {},
     "output_type": "execute_result"
    }
   ],
   "source": [
    "%%sql\n",
    "select * from biden_harris_contributor_stats limit 10;"
   ]
  },
  {
   "cell_type": "markdown",
   "metadata": {},
   "source": [
    "Now time for a sanity check: How many contributors have donated to Harris? \n",
    "With this new table, it's a single SQL statement:"
   ]
  },
  {
   "cell_type": "code",
   "execution_count": 10,
   "metadata": {
    "vscode": {
     "languageId": "sql"
    }
   },
   "outputs": [
    {
     "data": {
      "text/html": [
       "<span style=\"None\">Running query in &#x27;sqlite:///biden-harris-202301-202407.db&#x27;</span>"
      ],
      "text/plain": [
       "Running query in 'sqlite:///biden-harris-202301-202407.db'"
      ]
     },
     "metadata": {},
     "output_type": "display_data"
    },
    {
     "data": {
      "text/html": [
       "<table>\n",
       "    <thead>\n",
       "        <tr>\n",
       "            <th>sum(harris_donor)</th>\n",
       "        </tr>\n",
       "    </thead>\n",
       "    <tbody>\n",
       "        <tr>\n",
       "            <td>2183840</td>\n",
       "        </tr>\n",
       "    </tbody>\n",
       "</table>"
      ],
      "text/plain": [
       "+-------------------+\n",
       "| sum(harris_donor) |\n",
       "+-------------------+\n",
       "|      2183840      |\n",
       "+-------------------+"
      ]
     },
     "execution_count": 10,
     "metadata": {},
     "output_type": "execute_result"
    }
   ],
   "source": [
    "%%sql\n",
    "select sum(harris_donor) from biden_harris_contributor_stats;"
   ]
  },
  {
   "cell_type": "markdown",
   "metadata": {},
   "source": [
    "2.1 million unique donors! The LA Times analysis says 2.6 million, but remember, this is only ActBlue filings so likely an undercount. "
   ]
  },
  {
   "cell_type": "markdown",
   "metadata": {},
   "source": [
    "## Cross-checking LA Times numbers"
   ]
  },
  {
   "cell_type": "code",
   "execution_count": null,
   "metadata": {
    "vscode": {
     "languageId": "sql"
    }
   },
   "outputs": [],
   "source": []
  },
  {
   "cell_type": "markdown",
   "metadata": {},
   "source": [
    " > \"...70% of her support was from donors who had not given previously to President Biden...\""
   ]
  },
  {
   "cell_type": "code",
   "execution_count": 12,
   "metadata": {
    "vscode": {
     "languageId": "sql"
    }
   },
   "outputs": [
    {
     "data": {
      "text/html": [
       "<span style=\"None\">Running query in &#x27;sqlite:///biden-harris-202301-202407.db&#x27;</span>"
      ],
      "text/plain": [
       "Running query in 'sqlite:///biden-harris-202301-202407.db'"
      ]
     },
     "metadata": {},
     "output_type": "display_data"
    },
    {
     "data": {
      "text/html": [
       "<table>\n",
       "    <thead>\n",
       "        <tr>\n",
       "            <th>harris_not_biden_ratio</th>\n",
       "        </tr>\n",
       "    </thead>\n",
       "    <tbody>\n",
       "        <tr>\n",
       "            <td>0.6970899882775294</td>\n",
       "        </tr>\n",
       "    </tbody>\n",
       "</table>"
      ],
      "text/plain": [
       "+------------------------+\n",
       "| harris_not_biden_ratio |\n",
       "+------------------------+\n",
       "|   0.6970899882775294   |\n",
       "+------------------------+"
      ]
     },
     "execution_count": 12,
     "metadata": {},
     "output_type": "execute_result"
    }
   ],
   "source": [
    "%%sql\n",
    "select\n",
    "  1.0 * sum(harris_donor and not biden_donor) / sum(harris_donor) as harris_not_biden_ratio\n",
    "from biden_harris_contributor_stats;"
   ]
  },
  {
   "cell_type": "code",
   "execution_count": 23,
   "metadata": {
    "vscode": {
     "languageId": "sql"
    }
   },
   "outputs": [
    {
     "data": {
      "text/html": [
       "<span style=\"None\">Running query in &#x27;sqlite:///biden-harris-202301-202407.db&#x27;</span>"
      ],
      "text/plain": [
       "Running query in 'sqlite:///biden-harris-202301-202407.db'"
      ]
     },
     "metadata": {},
     "output_type": "display_data"
    },
    {
     "data": {
      "text/html": [
       "<table>\n",
       "    <thead>\n",
       "        <tr>\n",
       "            <th>contributor_state</th>\n",
       "            <th>harris_not_biden_ratio</th>\n",
       "        </tr>\n",
       "    </thead>\n",
       "    <tbody>\n",
       "        <tr>\n",
       "            <td>ZG</td>\n",
       "            <td>1.0</td>\n",
       "        </tr>\n",
       "        <tr>\n",
       "            <td>VS</td>\n",
       "            <td>1.0</td>\n",
       "        </tr>\n",
       "        <tr>\n",
       "            <td>VD</td>\n",
       "            <td>1.0</td>\n",
       "        </tr>\n",
       "        <tr>\n",
       "            <td>UD</td>\n",
       "            <td>1.0</td>\n",
       "        </tr>\n",
       "        <tr>\n",
       "            <td>TO</td>\n",
       "            <td>1.0</td>\n",
       "        </tr>\n",
       "        <tr>\n",
       "            <td>SP</td>\n",
       "            <td>1.0</td>\n",
       "        </tr>\n",
       "        <tr>\n",
       "            <td>SH</td>\n",
       "            <td>1.0</td>\n",
       "        </tr>\n",
       "        <tr>\n",
       "            <td>SA</td>\n",
       "            <td>1.0</td>\n",
       "        </tr>\n",
       "        <tr>\n",
       "            <td>RJ</td>\n",
       "            <td>1.0</td>\n",
       "        </tr>\n",
       "        <tr>\n",
       "            <td>RE</td>\n",
       "            <td>1.0</td>\n",
       "        </tr>\n",
       "    </tbody>\n",
       "</table>\n",
       "<span style=\"font-style:italic;text-align:center;\">Truncated to <a href=\"https://jupysql.ploomber.io/en/latest/api/configuration.html#displaylimit\">displaylimit</a> of 10.</span>"
      ],
      "text/plain": [
       "+-------------------+------------------------+\n",
       "| contributor_state | harris_not_biden_ratio |\n",
       "+-------------------+------------------------+\n",
       "|         ZG        |          1.0           |\n",
       "|         VS        |          1.0           |\n",
       "|         VD        |          1.0           |\n",
       "|         UD        |          1.0           |\n",
       "|         TO        |          1.0           |\n",
       "|         SP        |          1.0           |\n",
       "|         SH        |          1.0           |\n",
       "|         SA        |          1.0           |\n",
       "|         RJ        |          1.0           |\n",
       "|         RE        |          1.0           |\n",
       "+-------------------+------------------------+\n",
       "Truncated to displaylimit of 10."
      ]
     },
     "execution_count": 23,
     "metadata": {},
     "output_type": "execute_result"
    }
   ],
   "source": [
    "\n",
    "%%sql data =<<\n",
    "select\n",
    "  contributor_state,\n",
    "  1.0 * sum(harris_donor and not biden_donor) / sum(harris_donor) as harris_not_biden_ratio\n",
    "from biden_harris_contributor_stats\n",
    "group by 1\n",
    "order by 2 desc;"
   ]
  },
  {
   "cell_type": "code",
   "execution_count": 19,
   "metadata": {
    "vscode": {
     "languageId": "sql"
    }
   },
   "outputs": [
    {
     "data": {
      "text/html": [
       "<a href=\"./files/harris-ratio-by-state.csv\">CSV results</a>"
      ],
      "text/plain": [
       "CSV results at /Users/alex/projects/libfec/examples/latimes-harris-new/harris-ratio-by-state.csv"
      ]
     },
     "execution_count": 19,
     "metadata": {},
     "output_type": "execute_result"
    }
   ],
   "source": [
    "data.csv(\"harris-ratio-by-state.csv\")"
   ]
  },
  {
   "cell_type": "markdown",
   "metadata": {},
   "source": []
  },
  {
   "cell_type": "code",
   "execution_count": 28,
   "metadata": {
    "vscode": {
     "languageId": "sql"
    }
   },
   "outputs": [
    {
     "data": {
      "text/html": [
       "<span style=\"None\">Running query in &#x27;sqlite:///biden-harris-202301-202407.db&#x27;</span>"
      ],
      "text/plain": [
       "Running query in 'sqlite:///biden-harris-202301-202407.db'"
      ]
     },
     "metadata": {},
     "output_type": "display_data"
    },
    {
     "data": {
      "text/html": [
       "<table>\n",
       "    <thead>\n",
       "        <tr>\n",
       "            <th>contribution_date</th>\n",
       "            <th>type</th>\n",
       "            <th>count</th>\n",
       "        </tr>\n",
       "    </thead>\n",
       "    <tbody>\n",
       "        <tr>\n",
       "            <td>2024-07-01</td>\n",
       "            <td>biden_only</td>\n",
       "            <td>48058</td>\n",
       "        </tr>\n",
       "        <tr>\n",
       "            <td>2024-07-02</td>\n",
       "            <td>biden_only</td>\n",
       "            <td>46386</td>\n",
       "        </tr>\n",
       "        <tr>\n",
       "            <td>2024-07-03</td>\n",
       "            <td>biden_only</td>\n",
       "            <td>40518</td>\n",
       "        </tr>\n",
       "        <tr>\n",
       "            <td>2024-07-04</td>\n",
       "            <td>biden_only</td>\n",
       "            <td>32092</td>\n",
       "        </tr>\n",
       "        <tr>\n",
       "            <td>2024-07-05</td>\n",
       "            <td>biden_only</td>\n",
       "            <td>34302</td>\n",
       "        </tr>\n",
       "        <tr>\n",
       "            <td>2024-07-06</td>\n",
       "            <td>biden_only</td>\n",
       "            <td>34812</td>\n",
       "        </tr>\n",
       "        <tr>\n",
       "            <td>2024-07-07</td>\n",
       "            <td>biden_only</td>\n",
       "            <td>22416</td>\n",
       "        </tr>\n",
       "        <tr>\n",
       "            <td>2024-07-08</td>\n",
       "            <td>biden_only</td>\n",
       "            <td>29382</td>\n",
       "        </tr>\n",
       "        <tr>\n",
       "            <td>2024-07-09</td>\n",
       "            <td>biden_only</td>\n",
       "            <td>25850</td>\n",
       "        </tr>\n",
       "        <tr>\n",
       "            <td>2024-07-10</td>\n",
       "            <td>biden_only</td>\n",
       "            <td>23328</td>\n",
       "        </tr>\n",
       "    </tbody>\n",
       "</table>\n",
       "<span style=\"font-style:italic;text-align:center;\">Truncated to <a href=\"https://jupysql.ploomber.io/en/latest/api/configuration.html#displaylimit\">displaylimit</a> of 10.</span>"
      ],
      "text/plain": [
       "+-------------------+------------+-------+\n",
       "| contribution_date |    type    | count |\n",
       "+-------------------+------------+-------+\n",
       "|     2024-07-01    | biden_only | 48058 |\n",
       "|     2024-07-02    | biden_only | 46386 |\n",
       "|     2024-07-03    | biden_only | 40518 |\n",
       "|     2024-07-04    | biden_only | 32092 |\n",
       "|     2024-07-05    | biden_only | 34302 |\n",
       "|     2024-07-06    | biden_only | 34812 |\n",
       "|     2024-07-07    | biden_only | 22416 |\n",
       "|     2024-07-08    | biden_only | 29382 |\n",
       "|     2024-07-09    | biden_only | 25850 |\n",
       "|     2024-07-10    | biden_only | 23328 |\n",
       "+-------------------+------------+-------+\n",
       "Truncated to displaylimit of 10."
      ]
     },
     "execution_count": 28,
     "metadata": {},
     "output_type": "execute_result"
    }
   ],
   "source": [
    "%%sql\n",
    "select\n",
    "  contribution_date,\n",
    "  'biden_only' as type,\n",
    "  count(distinct contributor_id) as count\n",
    "from biden_harris_itemizations\n",
    "where contribution_date between '2024-07-01' and '2024-07-20'\n",
    "group by 1\n",
    "order by 1;"
   ]
  },
  {
   "cell_type": "code",
   "execution_count": 24,
   "metadata": {
    "vscode": {
     "languageId": "sql"
    }
   },
   "outputs": [
    {
     "data": {
      "text/html": [
       "<span style=\"None\">Running query in &#x27;sqlite:///biden-harris-202301-202407.db&#x27;</span>"
      ],
      "text/plain": [
       "Running query in 'sqlite:///biden-harris-202301-202407.db'"
      ]
     },
     "metadata": {},
     "output_type": "display_data"
    },
    {
     "data": {
      "text/html": [
       "<table>\n",
       "    <thead>\n",
       "        <tr>\n",
       "            <th>contribution_date</th>\n",
       "            <th>biden_harris_donor</th>\n",
       "            <th>harris_only_supporter</th>\n",
       "        </tr>\n",
       "    </thead>\n",
       "    <tbody>\n",
       "        <tr>\n",
       "            <td>2024-07-21</td>\n",
       "            <td>208020</td>\n",
       "            <td>299485</td>\n",
       "        </tr>\n",
       "        <tr>\n",
       "            <td>2024-07-22</td>\n",
       "            <td>183605</td>\n",
       "            <td>414385</td>\n",
       "        </tr>\n",
       "        <tr>\n",
       "            <td>2024-07-23</td>\n",
       "            <td>83167</td>\n",
       "            <td>211140</td>\n",
       "        </tr>\n",
       "        <tr>\n",
       "            <td>2024-07-24</td>\n",
       "            <td>54875</td>\n",
       "            <td>122716</td>\n",
       "        </tr>\n",
       "        <tr>\n",
       "            <td>2024-07-25</td>\n",
       "            <td>44783</td>\n",
       "            <td>98375</td>\n",
       "        </tr>\n",
       "        <tr>\n",
       "            <td>2024-07-26</td>\n",
       "            <td>31739</td>\n",
       "            <td>68435</td>\n",
       "        </tr>\n",
       "        <tr>\n",
       "            <td>2024-07-27</td>\n",
       "            <td>38266</td>\n",
       "            <td>63319</td>\n",
       "        </tr>\n",
       "        <tr>\n",
       "            <td>2024-07-28</td>\n",
       "            <td>42495</td>\n",
       "            <td>68483</td>\n",
       "        </tr>\n",
       "        <tr>\n",
       "            <td>2024-07-29</td>\n",
       "            <td>66137</td>\n",
       "            <td>133476</td>\n",
       "        </tr>\n",
       "        <tr>\n",
       "            <td>2024-07-30</td>\n",
       "            <td>48328</td>\n",
       "            <td>83804</td>\n",
       "        </tr>\n",
       "    </tbody>\n",
       "</table>\n",
       "<span style=\"font-style:italic;text-align:center;\">Truncated to <a href=\"https://jupysql.ploomber.io/en/latest/api/configuration.html#displaylimit\">displaylimit</a> of 10.</span>"
      ],
      "text/plain": [
       "+-------------------+--------------------+-----------------------+\n",
       "| contribution_date | biden_harris_donor | harris_only_supporter |\n",
       "+-------------------+--------------------+-----------------------+\n",
       "|     2024-07-21    |       208020       |         299485        |\n",
       "|     2024-07-22    |       183605       |         414385        |\n",
       "|     2024-07-23    |       83167        |         211140        |\n",
       "|     2024-07-24    |       54875        |         122716        |\n",
       "|     2024-07-25    |       44783        |         98375         |\n",
       "|     2024-07-26    |       31739        |         68435         |\n",
       "|     2024-07-27    |       38266        |         63319         |\n",
       "|     2024-07-28    |       42495        |         68483         |\n",
       "|     2024-07-29    |       66137        |         133476        |\n",
       "|     2024-07-30    |       48328        |         83804         |\n",
       "+-------------------+--------------------+-----------------------+\n",
       "Truncated to displaylimit of 10."
      ]
     },
     "execution_count": 24,
     "metadata": {},
     "output_type": "execute_result"
    }
   ],
   "source": [
    "\n",
    "%%sql\n",
    "with biden_donors as materialized (\n",
    "  select contributor_id\n",
    "  from biden_harris_contributor_stats\n",
    "  where biden_donor\n",
    ")\n",
    "select\n",
    "  contribution_date,\n",
    "  count(distinct contributor_id) filter (\n",
    "    where contributor_id in biden_donors\n",
    "  ) as biden_harris_donor,\n",
    "  count(distinct contributor_id) filter (\n",
    "    where contributor_id not in biden_donors\n",
    "  ) as harris_only_supporter\n",
    "from biden_harris_itemizations\n",
    "where contribution_date between '2024-07-21' and '2024-08-01'\n",
    "group by 1\n",
    "order by 1;"
   ]
  },
  {
   "cell_type": "code",
   "execution_count": 32,
   "metadata": {
    "vscode": {
     "languageId": "sql"
    }
   },
   "outputs": [
    {
     "data": {
      "text/html": [
       "<span style=\"None\">Running query in &#x27;sqlite:///biden-harris-202301-202407.db&#x27;</span>"
      ],
      "text/plain": [
       "Running query in 'sqlite:///biden-harris-202301-202407.db'"
      ]
     },
     "metadata": {},
     "output_type": "display_data"
    },
    {
     "data": {
      "text/html": [
       "<table>\n",
       "    <thead>\n",
       "        <tr>\n",
       "            <th>contribution_date</th>\n",
       "            <th>type</th>\n",
       "            <th>count</th>\n",
       "        </tr>\n",
       "    </thead>\n",
       "    <tbody>\n",
       "        <tr>\n",
       "            <td>2024-07-01</td>\n",
       "            <td>biden_only</td>\n",
       "            <td>48058</td>\n",
       "        </tr>\n",
       "        <tr>\n",
       "            <td>2024-07-02</td>\n",
       "            <td>biden_only</td>\n",
       "            <td>46386</td>\n",
       "        </tr>\n",
       "        <tr>\n",
       "            <td>2024-07-03</td>\n",
       "            <td>biden_only</td>\n",
       "            <td>40518</td>\n",
       "        </tr>\n",
       "        <tr>\n",
       "            <td>2024-07-04</td>\n",
       "            <td>biden_only</td>\n",
       "            <td>32092</td>\n",
       "        </tr>\n",
       "        <tr>\n",
       "            <td>2024-07-05</td>\n",
       "            <td>biden_only</td>\n",
       "            <td>34302</td>\n",
       "        </tr>\n",
       "        <tr>\n",
       "            <td>2024-07-06</td>\n",
       "            <td>biden_only</td>\n",
       "            <td>34812</td>\n",
       "        </tr>\n",
       "        <tr>\n",
       "            <td>2024-07-07</td>\n",
       "            <td>biden_only</td>\n",
       "            <td>22416</td>\n",
       "        </tr>\n",
       "        <tr>\n",
       "            <td>2024-07-08</td>\n",
       "            <td>biden_only</td>\n",
       "            <td>29382</td>\n",
       "        </tr>\n",
       "        <tr>\n",
       "            <td>2024-07-09</td>\n",
       "            <td>biden_only</td>\n",
       "            <td>25850</td>\n",
       "        </tr>\n",
       "        <tr>\n",
       "            <td>2024-07-10</td>\n",
       "            <td>biden_only</td>\n",
       "            <td>23328</td>\n",
       "        </tr>\n",
       "    </tbody>\n",
       "</table>\n",
       "<span style=\"font-style:italic;text-align:center;\">Truncated to <a href=\"https://jupysql.ploomber.io/en/latest/api/configuration.html#displaylimit\">displaylimit</a> of 10.</span>"
      ],
      "text/plain": [
       "+-------------------+------------+-------+\n",
       "| contribution_date |    type    | count |\n",
       "+-------------------+------------+-------+\n",
       "|     2024-07-01    | biden_only | 48058 |\n",
       "|     2024-07-02    | biden_only | 46386 |\n",
       "|     2024-07-03    | biden_only | 40518 |\n",
       "|     2024-07-04    | biden_only | 32092 |\n",
       "|     2024-07-05    | biden_only | 34302 |\n",
       "|     2024-07-06    | biden_only | 34812 |\n",
       "|     2024-07-07    | biden_only | 22416 |\n",
       "|     2024-07-08    | biden_only | 29382 |\n",
       "|     2024-07-09    | biden_only | 25850 |\n",
       "|     2024-07-10    | biden_only | 23328 |\n",
       "+-------------------+------------+-------+\n",
       "Truncated to displaylimit of 10."
      ]
     },
     "execution_count": 32,
     "metadata": {},
     "output_type": "execute_result"
    }
   ],
   "source": [
    "\n",
    "%%sql data =<<\n",
    "with biden_donors as materialized (\n",
    "  select contributor_id\n",
    "  from biden_harris_contributor_stats\n",
    "  where biden_donor\n",
    ")\n",
    "select\n",
    "  contribution_date,\n",
    "  'biden_only' as type,\n",
    "  count(distinct contributor_id) as count\n",
    "from biden_harris_itemizations\n",
    "where contribution_date between '2024-07-01' and '2024-07-20'\n",
    "group by 1\n",
    "union all\n",
    "select\n",
    "  contribution_date,\n",
    "  'biden_and_harris' as type,\n",
    "  count(distinct contributor_id) filter (where contributor_id in biden_donors) as count\n",
    "from biden_harris_itemizations\n",
    "where contribution_date between '2024-07-21' and '2024-08-01'\n",
    "group by 1\n",
    "union all\n",
    "select\n",
    "  contribution_date,\n",
    "  'harris_only' as type,\n",
    "  count(distinct contributor_id) filter (where contributor_id not in biden_donors) as count\n",
    "from biden_harris_itemizations\n",
    "where contribution_date between '2024-07-21' and '2024-08-01'\n",
    "group by 1;"
   ]
  },
  {
   "cell_type": "code",
   "execution_count": 33,
   "metadata": {
    "vscode": {
     "languageId": "sql"
    }
   },
   "outputs": [
    {
     "data": {
      "text/html": [
       "<a href=\"./files/july-by-candidate.csv\">CSV results</a>"
      ],
      "text/plain": [
       "CSV results at /Users/alex/projects/libfec/examples/latimes-harris-new/july-by-candidate.csv"
      ]
     },
     "execution_count": 33,
     "metadata": {},
     "output_type": "execute_result"
    }
   ],
   "source": [
    "data.csv(\"july-by-candidate.csv\")"
   ]
  },
  {
   "cell_type": "code",
   "execution_count": null,
   "metadata": {
    "vscode": {
     "languageId": "sql"
    }
   },
   "outputs": [],
   "source": [
    "%%sql\n",
    "select\n",
    "  sum(biden_donor) as num_biden_donors,\n",
    "  sum(harris_donor) as num_harris_donors,\n",
    "  --sum(harris_donor and not biden_donor) as num_harris_not_biden_donors,\n",
    "  1.0 * sum(harris_donor and not biden_donor) / sum(harris_donor) as only_harris_ratios,\n",
    "  sum(biden_contribution_amount) as biden_raised_total,\n",
    "  sum(harris_contribution_amount) as harris_raised_total\n",
    "from contributor_stats\n",
    "where contributor_zip_code5 == '90601';"
   ]
  },
  {
   "cell_type": "code",
   "execution_count": null,
   "metadata": {
    "vscode": {
     "languageId": "sql"
    }
   },
   "outputs": [],
   "source": []
  },
  {
   "cell_type": "code",
   "execution_count": null,
   "metadata": {
    "vscode": {
     "languageId": "sql"
    }
   },
   "outputs": [],
   "source": [
    "%config SqlMagic.displaylimit = None\n"
   ]
  },
  {
   "cell_type": "code",
   "execution_count": null,
   "metadata": {
    "vscode": {
     "languageId": "sql"
    }
   },
   "outputs": [],
   "source": [
    "%%sql\n",
    "select count(*) from contributor_stats;"
   ]
  },
  {
   "cell_type": "code",
   "execution_count": null,
   "metadata": {
    "vscode": {
     "languageId": "sql"
    }
   },
   "outputs": [],
   "source": [
    "%%sql\n",
    "select * from contributor_stats limit 10;"
   ]
  },
  {
   "cell_type": "code",
   "execution_count": null,
   "metadata": {
    "vscode": {
     "languageId": "sql"
    }
   },
   "outputs": [],
   "source": [
    "\n",
    "%%sql\n",
    "select\n",
    "  contributor_state,\n",
    "  count(),\n",
    "  1.0 * sum(harris_donor and not biden_donor) / sum(harris_donor) as harris_not_biden_ratio\n",
    "from contributor_stats\n",
    "group by 1\n",
    "order by 2 desc\n",
    "limit 10;"
   ]
  },
  {
   "cell_type": "code",
   "execution_count": null,
   "metadata": {
    "vscode": {
     "languageId": "sql"
    }
   },
   "outputs": [],
   "source": []
  },
  {
   "cell_type": "code",
   "execution_count": null,
   "metadata": {
    "vscode": {
     "languageId": "sql"
    }
   },
   "outputs": [],
   "source": [
    "%%sql\n",
    "select\n",
    "  sum(contribution_amount),\n",
    "  min(contribution_date),\n",
    "  max(contribution_date)\n",
    "  --sum(contribution_amount) filter (where contribution_amount < 200) as small_contribution_total,\n",
    "  --sum(contribution_amount) filter (where contribution_amount >= 200) as large_contribution_total\n",
    "from biden_harris_itemizations"
   ]
  },
  {
   "cell_type": "code",
   "execution_count": null,
   "metadata": {
    "vscode": {
     "languageId": "sql"
    }
   },
   "outputs": [],
   "source": [
    "%%sql by_date <<\n",
    "select\n",
    "  contribution_date,\n",
    "  'small' as contribution_type,\n",
    "  sum(contribution_amount) as contribution_amount\n",
    "from biden_harris_itemizations\n",
    "where contribution_amount < 200\n",
    "group by 1\n",
    "\n",
    "union all\n",
    "\n",
    "select\n",
    "  contribution_date,\n",
    "  'large' as contribution_type,\n",
    "  sum(contribution_amount) as contribution_amount\n",
    "from biden_harris_itemizations\n",
    "where contribution_amount >= 200\n",
    "group by 1"
   ]
  },
  {
   "cell_type": "code",
   "execution_count": null,
   "metadata": {
    "vscode": {
     "languageId": "sql"
    }
   },
   "outputs": [],
   "source": [
    "by_date.csv(filename=\"by-date-size2.csv\")"
   ]
  },
  {
   "cell_type": "code",
   "execution_count": null,
   "metadata": {
    "vscode": {
     "languageId": "sql"
    }
   },
   "outputs": [],
   "source": [
    "%%sql\n",
    "select contribution_date, sum(\"sum(contribution_amount)\") over (order by contribution_date) from temp.x;"
   ]
  }
 ],
 "metadata": {
  "kernelspec": {
   "display_name": ".venv",
   "language": "python",
   "name": "python3"
  },
  "language_info": {
   "codemirror_mode": {
    "name": "ipython",
    "version": 3
   },
   "file_extension": ".py",
   "mimetype": "text/x-python",
   "name": "python",
   "nbconvert_exporter": "python",
   "pygments_lexer": "ipython3",
   "version": "3.12.5"
  }
 },
 "nbformat": 4,
 "nbformat_minor": 2
}
